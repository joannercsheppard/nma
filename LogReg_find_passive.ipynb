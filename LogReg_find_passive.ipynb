{
 "cells": [
  {
   "cell_type": "code",
   "execution_count": 2,
   "id": "2d0f88c0-4e65-4f0b-8904-a9104d2fd839",
   "metadata": {},
   "outputs": [],
   "source": [
    "import os\n",
    "import numpy as np\n",
    "import matplotlib.pyplot as plt\n",
    "import pandas as pd \n",
    "from sklearn.linear_model import LogisticRegression\n",
    "from sklearn.utils import resample\n",
    "import warnings\n",
    "warnings.filterwarnings('ignore')\n",
    "\n",
    "def get_file_names(folder_path):\n",
    "    files = [file for file in os.listdir(folder_path) if os.path.isfile(os.path.join(folder_path, file))]\n",
    "    return files\n",
    "\n",
    "missed_data_path = 'data/missed'\n",
    "missed_data_points = get_file_names(missed_data_path)\n",
    "\n",
    "passive_data_path = 'data/passive'\n",
    "passive_data_points = get_file_names(passive_data_path)"
   ]
  },
  {
   "cell_type": "code",
   "execution_count": 4,
   "id": "15c61ba5-c516-4f58-8798-e1125be97a13",
   "metadata": {},
   "outputs": [],
   "source": [
    "def create_df(filepath, file_names):\n",
    "    df = np.zeros((len(file_names), 50))\n",
    "    i = 0 \n",
    "    for file in file_names:\n",
    "        data = np.load(f'{filepath}/{file}')\n",
    "        max = np.max(data, 1)\n",
    "        df[i] = max\n",
    "        i += 1\n",
    "    return pd.DataFrame(df)\n",
    "\n",
    "missed = create_df(missed_data_path, missed_data_points)\n",
    "missed['missed'] = 1\n",
    "passive = create_df(passive_data_path, passive_data_points)\n",
    "passive['missed'] = 0\n",
    "df = pd.concat([missed[:45], passive])"
   ]
  },
  {
   "cell_type": "code",
   "execution_count": 5,
   "id": "49e96525-d722-4d39-a8b1-224a6f3b562a",
   "metadata": {},
   "outputs": [
    {
     "name": "stdout",
     "output_type": "stream",
     "text": [
      "Average accuracy: 0.8357142857142857\n"
     ]
    }
   ],
   "source": [
    "def bootstrap_evaluation(X, y, n_iterations=10, test_size=0.3):\n",
    "    \"\"\"\n",
    "    Perform bootstrap evaluation of logistic regression model.\n",
    "\n",
    "    Parameters:\n",
    "    X (DataFrame): Feature matrix.\n",
    "    y (Series): Target vector.\n",
    "    n_iterations (int): Number of bootstrap samples to create.\n",
    "    test_size (float): Proportion of dataset to include in the test split.\n",
    "\n",
    "    Returns:\n",
    "    np.array: Array of accuracy scores from each iteration.\n",
    "    \"\"\"\n",
    "    accuracies = []\n",
    "\n",
    "    for _ in range(n_iterations):\n",
    "        # Create a bootstrap sample\n",
    "        X_sample, y_sample = resample(X, y)\n",
    "\n",
    "        # Split the bootstrap sample into training and test sets\n",
    "        X_train, X_test = np.split(X_sample, [int((1 - test_size) * len(X_sample))])\n",
    "        y_train, y_test = np.split(y_sample, [int((1 - test_size) * len(y_sample))])\n",
    "\n",
    "        # Create and train the model\n",
    "        model = LogisticRegression()\n",
    "        model.fit(X_train, y_train)\n",
    "\n",
    "        # Evaluate the model\n",
    "        score = model.score(X_test, y_test)\n",
    "        accuracies.append(score)\n",
    "\n",
    "    return np.array(accuracies)\n",
    "\n",
    "# Assuming df is your DataFrame and 'missing' is the binary target column\n",
    "X = df.drop('missed', axis=1)  # Features\n",
    "y = df['missed']  # Binary target (already encoded as 0/1)\n",
    "\n",
    "# Perform bootstrap evaluation\n",
    "scores = bootstrap_evaluation(X, y)\n",
    "\n",
    "# Print average accuracy\n",
    "print(\"Average accuracy:\", np.mean(scores))\n"
   ]
  },
  {
   "cell_type": "code",
   "execution_count": null,
   "id": "d7bd8f96-2d09-458a-9a51-ba059f0eef96",
   "metadata": {},
   "outputs": [],
   "source": []
  }
 ],
 "metadata": {
  "kernelspec": {
   "display_name": "Python 3 (ipykernel)",
   "language": "python",
   "name": "python3"
  },
  "language_info": {
   "codemirror_mode": {
    "name": "ipython",
    "version": 3
   },
   "file_extension": ".py",
   "mimetype": "text/x-python",
   "name": "python",
   "nbconvert_exporter": "python",
   "pygments_lexer": "ipython3",
   "version": "3.11.6"
  }
 },
 "nbformat": 4,
 "nbformat_minor": 5
}
