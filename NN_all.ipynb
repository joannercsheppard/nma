{
 "cells": [
  {
   "cell_type": "code",
   "execution_count": 1,
   "id": "7c16a36d-6be2-49a2-b2af-8a8eed1d8bf7",
   "metadata": {},
   "outputs": [],
   "source": [
    "import os\n",
    "import numpy as np\n",
    "import matplotlib.pyplot as plt\n",
    "import pandas as pd \n",
    "from sklearn.linear_model import LogisticRegression\n",
    "from sklearn.utils import resample\n",
    "import torch\n",
    "from torch.utils.data import Dataset, DataLoader\n",
    "from sklearn.preprocessing import StandardScaler\n",
    "import warnings\n",
    "from torch.utils.data import Dataset, DataLoader\n",
    "\n",
    "warnings.filterwarnings('ignore')\n",
    "\n",
    "def get_file_names(folder_path):\n",
    "    files = [file for file in os.listdir(folder_path) if os.path.isfile(os.path.join(folder_path, file))]\n",
    "    return files\n",
    "\n",
    "missed_data_path = 'data/missed'\n",
    "missed_data_points = get_file_names(missed_data_path)\n",
    "\n",
    "passive_data_path = 'data/passive'\n",
    "passive_data_points = get_file_names(passive_data_path)"
   ]
  },
  {
   "cell_type": "code",
   "execution_count": 2,
   "id": "671450fd-0187-4a96-a249-9cd9b48b0ad9",
   "metadata": {},
   "outputs": [],
   "source": [
    "class EEGFilesDataset(Dataset):\n",
    "    def __init__(self, data_dir):\n",
    "        self.data_dir = data_dir\n",
    "        self.files = []\n",
    "        self.labels = []\n",
    "\n",
    "        # Read files from 'missed' directory\n",
    "        missed_dir = os.path.join(data_dir, 'missed')\n",
    "        for file in os.listdir(missed_dir):\n",
    "            if file.endswith('.npy'):\n",
    "                self.files.append(os.path.join(missed_dir, file))\n",
    "                self.labels.append(0)  # Label for 'missed'\n",
    "\n",
    "        # Read files from 'passive' directory\n",
    "        passive_dir = os.path.join(data_dir, 'passive')\n",
    "        for file in os.listdir(passive_dir):\n",
    "            if file.endswith('.npy'):  # Change file extension based on your data format\n",
    "                self.files.append(os.path.join(passive_dir, file))\n",
    "                self.labels.append(1)  # Label for 'passive'\n",
    "\n",
    "        # Initialize a scaler for normalization\n",
    "        self.scaler = StandardScaler()\n",
    "\n",
    "    def __len__(self):\n",
    "        return len(self.files)\n",
    "\n",
    "    def __getitem__(self, idx):\n",
    "        # Load data from file\n",
    "        data = np.load(self.files[idx])\n",
    "\n",
    "        # Flatten the data if it's 2D (you might need to adjust this based on your data shape)\n",
    "        if data.ndim > 1:\n",
    "            data = data.flatten()\n",
    "\n",
    "        # Normalize the data\n",
    "        data = self.scaler.fit_transform(data.reshape(-1, 1)).flatten()\n",
    "\n",
    "        # Convert data and label to torch tensors\n",
    "        return torch.tensor(data, dtype=torch.float32), torch.tensor(self.labels[idx], dtype=torch.long)\n",
    "\n",
    "# Create the dataset\n",
    "dataset = EEGFilesDataset('data')\n",
    "\n",
    "# Create the DataLoader\n",
    "dataloader = DataLoader(dataset, batch_size=4, shuffle=True)\n"
   ]
  },
  {
   "cell_type": "code",
   "execution_count": 3,
   "id": "06eb933f-b2b7-47f9-b135-c67198efa87e",
   "metadata": {},
   "outputs": [],
   "source": [
    "import torch.nn as nn\n",
    "import torch.nn.functional as F\n",
    "\n",
    "class SimpleNN(nn.Module):\n",
    "    def __init__(self, input_size, hidden_size, output_size):\n",
    "        super(SimpleNN, self).__init__()\n",
    "        self.layer1 = nn.Linear(input_size, hidden_size)\n",
    "        self.act = nn.ReLU()\n",
    "        self.layer2 = nn.Linear(hidden_size, output_size)\n",
    "        self.sigmoid = nn.Sigmoid()\n",
    "\n",
    "    def forward(self, x):\n",
    "        x = self.act(self.layer1(x))\n",
    "        x = self.sigmoid(self.layer2(x))  # This layer maps to the number of categories\n",
    "        return x\n",
    "\n",
    "# Adjust these parameters according to your needs\n",
    "input_size = 54250  # Change this based on your actual input size\n",
    "hidden_size = 100   # You can adjust the size of the hidden layer\n",
    "output_size = 1     # Assuming you have two categories\n",
    "\n",
    "net = SimpleNN(input_size, hidden_size, output_size)\n"
   ]
  },
  {
   "cell_type": "code",
   "execution_count": 4,
   "id": "0d8ae77b-d41d-4048-baa0-1f3f0893ade8",
   "metadata": {},
   "outputs": [
    {
     "name": "stdout",
     "output_type": "stream",
     "text": [
      "Epoch 1/10, Loss: 0.1084916815161705\n",
      "Epoch 2/10, Loss: 0.20883773267269135\n",
      "Epoch 3/10, Loss: 0.00013328046770766377\n",
      "Epoch 4/10, Loss: 0.00013347723870538175\n",
      "Epoch 5/10, Loss: 0.0001356062275590375\n",
      "Epoch 6/10, Loss: 0.0021230613347142935\n",
      "Epoch 7/10, Loss: 0.0006223231903277338\n",
      "Epoch 8/10, Loss: 0.00029095838544890285\n",
      "Epoch 9/10, Loss: 0.0009305121493525803\n",
      "Epoch 10/10, Loss: 0.00033317224006168544\n"
     ]
    }
   ],
   "source": [
    "criterion = nn.BCELoss()\n",
    "optimizer = torch.optim.Adam(net.parameters(), lr=0.001)\n",
    "num_epochs = 10\n",
    "\n",
    "# Training loop\n",
    "for epoch in range(num_epochs):\n",
    "    for inputs, labels in dataloader:\n",
    "        optimizer.zero_grad()\n",
    "        outputs = net(inputs).squeeze()\n",
    "        loss = criterion(outputs.float(), labels.float())\n",
    "        loss.backward()\n",
    "        optimizer.step()\n",
    "    print(f\"Epoch {epoch+1}/{num_epochs}, Loss: {loss.item()}\")\n"
   ]
  },
  {
   "cell_type": "code",
   "execution_count": null,
   "id": "da78bc37-2fc0-4007-9546-75b3e997f83c",
   "metadata": {},
   "outputs": [],
   "source": []
  }
 ],
 "metadata": {
  "kernelspec": {
   "display_name": "Python 3 (ipykernel)",
   "language": "python",
   "name": "python3"
  },
  "language_info": {
   "codemirror_mode": {
    "name": "ipython",
    "version": 3
   },
   "file_extension": ".py",
   "mimetype": "text/x-python",
   "name": "python",
   "nbconvert_exporter": "python",
   "pygments_lexer": "ipython3",
   "version": "3.11.6"
  }
 },
 "nbformat": 4,
 "nbformat_minor": 5
}
