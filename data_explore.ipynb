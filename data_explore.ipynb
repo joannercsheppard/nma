{
 "cells": [
  {
   "cell_type": "code",
   "execution_count": 1,
   "id": "c7d4ce2f-6063-4614-a215-5fd914bc47a7",
   "metadata": {},
   "outputs": [
    {
     "data": {
      "text/plain": [
       "['sub-Cori_ses-20161214T120000.nwb',\n",
       " 'sub-Cori_ses-20161218T120000.nwb',\n",
       " 'sub-Cori_ses-20161217T120000.nwb']"
      ]
     },
     "execution_count": 1,
     "metadata": {},
     "output_type": "execute_result"
    }
   ],
   "source": [
    "import os\n",
    "import matplotlib.pyplot as plt\n",
    "import numpy as np\n",
    "import pynwb\n",
    "\n",
    "# Define the path to the folder\n",
    "folder_path = '000017/sub-Cori/'\n",
    "\n",
    "# Check if the folder exists and list its contents\n",
    "if os.path.exists(folder_path):\n",
    "    contents = os.listdir(folder_path)\n",
    "else:\n",
    "    contents = None\n",
    "\n",
    "contents"
   ]
  },
  {
   "cell_type": "code",
   "execution_count": 2,
   "id": "92c67907-a7f7-4a14-b461-3826a08a8ce8",
   "metadata": {},
   "outputs": [
    {
     "name": "stderr",
     "output_type": "stream",
     "text": [
      "/opt/conda/lib/python3.11/site-packages/pynwb/base.py:193: UserWarning: IntervalSeries 'wheel_moves': Length of data does not match length of timestamps. Your data may be transposed. Time should be on the 0th dimension\n",
      "  warn(\"%s '%s': Length of data does not match length of timestamps. Your data may be transposed. \"\n"
     ]
    },
    {
     "name": "stdout",
     "output_type": "stream",
     "text": [
      "peak_channel: (1085, 1)\n",
      "waveform_duration: (1085, 1)\n",
      "phy_annotations: (1085,)\n",
      "cluster_depths: (1085, 1)\n",
      "sampling_rate: (1085,)\n",
      "spike_times: (1085,)\n",
      "electrodes: (1085,)\n",
      "waveform_mean: (1085, 82, 50)\n",
      "spike_amps: (1085,)\n",
      "spike_depths: (1085,)\n"
     ]
    }
   ],
   "source": [
    "nwb_file_path = f'{folder_path}/{contents[0]}'\n",
    "with pynwb.NWBHDF5IO(nwb_file_path, 'r') as io:\n",
    "        nwb_data = io.read()\n",
    "        for colname in nwb_data.units.colnames:\n",
    "            try:\n",
    "                print(f'{colname}: {nwb_data.units[colname].data[:].shape}')\n",
    "            except:\n",
    "                continue"
   ]
  },
  {
   "cell_type": "code",
   "execution_count": 14,
   "id": "1b2be833-641b-4f6a-8e25-b775d5ab6647",
   "metadata": {},
   "outputs": [
    {
     "name": "stderr",
     "output_type": "stream",
     "text": [
      "/opt/conda/lib/python3.11/site-packages/pynwb/base.py:193: UserWarning: IntervalSeries 'wheel_moves': Length of data does not match length of timestamps. Your data may be transposed. Time should be on the 0th dimension\n",
      "  warn(\"%s '%s': Length of data does not match length of timestamps. Your data may be transposed. \"\n"
     ]
    },
    {
     "name": "stdout",
     "output_type": "stream",
     "text": [
      "[ 51  54  50  52  49  53  47  48  55  56  46  58  44  57  45  43  59  60\n",
      "  40  36  42  62  33  41  61  38  35  31  39  63  64  29  32  37 237  34\n",
      " 277 370  65 372  87 247 293 163  30 246 249 284 233 287]\n",
      "[6.0100000e-02 6.9700000e-02 1.4230000e-01 ... 2.6996755e+03 2.6997457e+03\n",
      " 2.6997677e+03]\n"
     ]
    }
   ],
   "source": [
    "with pynwb.NWBHDF5IO(nwb_file_path, 'r') as io:\n",
    "        nwb_data = io.read()\n",
    "        i = 100\n",
    "        unit = nwb_data.units[i]\n",
    "        #print(unit['spike_times'][:].values[0].shape)\n",
    "        elec = unit['electrodes'][:].values[0]\n",
    "        spike = unit['spike_times'][:].values[0]\n",
    "        print(unit['electrodes'][:].values[0])\n",
    "        print(unit['spike_times'][:].values[0])"
   ]
  },
  {
   "cell_type": "code",
   "execution_count": 64,
   "id": "c321b716-d193-48fa-93d2-ce3d09938b0e",
   "metadata": {},
   "outputs": [
    {
     "name": "stdout",
     "output_type": "stream",
     "text": [
      "['LS' 'LS' 'LS' 'LS' 'LS' 'LS' 'LS' 'LS' 'LS' 'LS' 'LS' 'LS' 'LS' 'LS'\n",
      " 'LS' 'LS' 'LS' 'LS' 'LS' 'LS' 'LS' 'LS' 'LS' 'LS' 'LS' 'LS' 'LS' 'LS'\n",
      " 'LS' 'LS' 'LS' 'LS' 'LS' 'LS' 'LS' 'LS' 'LS' 'LS' 'LS' 'LS' 'LS' 'LS'\n",
      " 'LS' 'LS' 'LS' 'LS' 'LS' 'LS' 'LS' 'LS' 'LS' 'LS' 'LS' 'LS' 'LS' 'LS'\n",
      " 'LS' 'LS' 'LS' 'LS' 'LS' 'LS' 'LS' 'LS' 'LS' 'LS' 'LS' 'LS' 'LS' 'LS'\n",
      " 'LS' 'LS' 'LS' 'LS' 'LS' 'LS' 'LS' 'LS' 'LS' 'LS' 'LS' 'LS' 'LS' 'LS'\n",
      " 'LS' 'LS' 'LS' 'LS' 'LS' 'LS' 'LS' 'LS' 'LS' 'LS' 'LS' 'LS' 'LS' 'LS'\n",
      " 'LS' 'LS' 'LS' 'LS' 'LS' 'LS' 'LS' 'LS' 'LS' 'LS' 'LS' 'LS' 'LS' 'LS'\n",
      " 'LS' 'LS' 'LS' 'LS' 'LS' 'LS' 'LS' 'LS' 'root' 'root' 'root' 'root'\n",
      " 'root' 'root' 'root' 'root' 'root' 'root' 'root' 'root' 'root' 'root'\n",
      " 'root' 'root' 'root' 'root' 'root' 'root' 'root' 'root' 'root' 'root'\n",
      " 'root' 'root' 'root' 'root' 'root' 'root' 'root' 'root' 'root' 'root'\n",
      " 'root' 'root' 'root' 'root' 'root' 'root' 'root' 'root' 'root' 'root'\n",
      " 'root' 'root' 'root' 'root' 'root' 'root' 'ACA' 'ACA' 'ACA' 'ACA' 'ACA'\n",
      " 'ACA' 'ACA' 'ACA' 'ACA' 'ACA' 'ACA' 'ACA' 'ACA' 'ACA' 'ACA' 'ACA' 'ACA'\n",
      " 'ACA' 'ACA' 'ACA' 'ACA' 'ACA' 'ACA' 'ACA' 'ACA' 'ACA' 'ACA' 'ACA' 'ACA'\n",
      " 'ACA' 'ACA' 'ACA' 'ACA' 'ACA' 'ACA' 'ACA' 'ACA' 'ACA' 'ACA' 'ACA' 'ACA'\n",
      " 'ACA' 'ACA' 'ACA' 'ACA' 'ACA' 'ACA' 'ACA' 'ACA' 'ACA' 'ACA' 'ACA' 'ACA'\n",
      " 'ACA' 'ACA' 'ACA' 'ACA' 'ACA' 'ACA' 'ACA' 'ACA' 'ACA' 'ACA' 'ACA' 'ACA'\n",
      " 'ACA' 'ACA' 'ACA' 'ACA' 'ACA' 'ACA' 'ACA' 'ACA' 'ACA' 'ACA' 'ACA' 'ACA'\n",
      " 'ACA' 'ACA' 'ACA' 'ACA' 'ACA' 'ACA' 'ACA' 'ACA' 'ACA' 'ACA' 'ACA' 'ACA'\n",
      " 'ACA' 'MOs' 'MOs' 'MOs' 'MOs' 'MOs' 'MOs' 'MOs' 'MOs' 'MOs' 'MOs' 'MOs'\n",
      " 'MOs' 'MOs' 'MOs' 'MOs' 'MOs' 'MOs' 'MOs' 'MOs' 'MOs' 'MOs' 'MOs' 'MOs'\n",
      " 'MOs' 'MOs' 'MOs' 'MOs' 'MOs' 'MOs' 'MOs' 'MOs' 'MOs' 'MOs' 'MOs' 'MOs'\n",
      " 'MOs' 'MOs' 'MOs' 'MOs' 'MOs' 'MOs' 'MOs' 'MOs' 'MOs' 'MOs' 'MOs' 'MOs'\n",
      " 'MOs' 'MOs' 'MOs' 'MOs' 'MOs' 'MOs' 'MOs' 'MOs' 'MOs' 'MOs' 'MOs' 'MOs'\n",
      " 'MOs' 'MOs' 'MOs' 'MOs' 'MOs' 'MOs' 'MOs' 'MOs' 'MOs' 'MOs' 'MOs' 'MOs'\n",
      " 'MOs' 'MOs' 'MOs' 'MOs' 'MOs' 'MOs' 'MOs' 'MOs' 'MOs' 'MOs' 'MOs' 'MOs'\n",
      " 'MOs' 'MOs' 'MOs' 'MOs' 'MOs' 'MOs' 'MOs' 'MOs' 'MOs' 'MOs' 'MOs' 'MOs'\n",
      " 'MOs' 'MOs' 'MOs' 'MOs' 'MOs' 'root' 'root' 'root' 'root' 'root' 'root'\n",
      " 'root' 'root' 'root' 'root' 'root' 'root' 'root' 'root' 'CA3' 'CA3' 'CA3'\n",
      " 'CA3' 'CA3' 'CA3' 'CA3' 'CA3' 'CA3' 'CA3' 'CA3' 'CA3' 'CA3' 'CA3' 'CA3'\n",
      " 'CA3' 'CA3' 'CA3' 'CA3' 'CA3' 'CA3' 'CA3' 'CA3' 'CA3' 'CA3' 'CA3' 'CA3'\n",
      " 'CA3' 'CA3' 'CA3' 'CA3' 'CA3' 'CA3' 'CA3' 'DG' 'DG' 'DG' 'DG' 'DG' 'DG'\n",
      " 'DG' 'DG' 'DG' 'DG' 'DG' 'DG' 'DG' 'DG' 'DG' 'DG' 'DG' 'DG' 'DG' 'DG'\n",
      " 'DG' 'DG' 'DG' 'DG' 'DG' 'DG' 'DG' 'DG' 'DG' 'DG' 'DG' 'DG' 'DG' 'DG'\n",
      " 'DG' 'DG' 'DG' 'DG' 'DG' 'DG' 'DG' 'DG' 'DG' 'DG' 'DG' 'DG' 'DG' 'DG'\n",
      " 'DG' 'DG' 'DG' 'DG' 'DG' 'DG' 'DG' 'DG' 'DG' 'DG' 'DG' 'DG' 'DG' 'DG'\n",
      " 'DG' 'DG' 'DG' 'DG' 'DG' 'DG' 'DG' 'DG' 'DG' 'DG' 'DG' 'DG' 'DG' 'DG'\n",
      " 'DG' 'DG' 'DG' 'DG' 'DG' 'DG' 'DG' 'DG' 'DG' 'DG' 'root' 'root' 'root'\n",
      " 'root' 'root' 'root' 'root' 'root' 'root' 'root' 'root' 'root' 'root'\n",
      " 'root' 'root' 'root' 'root' 'root' 'root' 'root' 'root' 'root' 'root'\n",
      " 'root' 'root' 'root' 'root' 'root' 'root' 'root' 'root' 'root' 'root'\n",
      " 'root' 'root' 'root' 'root' 'root' 'root' 'root' 'root' 'root' 'root'\n",
      " 'root' 'root' 'root' 'root' 'root' 'root' 'root' 'root' 'root' 'root'\n",
      " 'root' 'root' 'root' 'root' 'root' 'root' 'root' 'root' 'root' 'root'\n",
      " 'root' 'root' 'root' 'root' 'root' 'root' 'root' 'SUB' 'SUB' 'SUB' 'SUB'\n",
      " 'SUB' 'SUB' 'SUB' 'SUB' 'SUB' 'SUB' 'SUB' 'SUB' 'SUB' 'SUB' 'SUB' 'SUB'\n",
      " 'SUB' 'SUB' 'SUB' 'SUB' 'SUB' 'SUB' 'SUB' 'SUB' 'SUB' 'SUB' 'SUB' 'SUB'\n",
      " 'SUB' 'SUB' 'SUB' 'SUB' 'SUB' 'SUB' 'SUB' 'SUB' 'SUB' 'SUB' 'SUB' 'SUB'\n",
      " 'SUB' 'SUB' 'SUB' 'SUB' 'SUB' 'SUB' 'SUB' 'SUB' 'SUB' 'SUB' 'SUB' 'SUB'\n",
      " 'SUB' 'SUB' 'SUB' 'SUB' 'SUB' 'SUB' 'SUB' 'SUB' 'root' 'root' 'root'\n",
      " 'root' 'root' 'root' 'root' 'root' 'root' 'root' 'VISp' 'VISp' 'VISp'\n",
      " 'VISp' 'VISp' 'VISp' 'VISp' 'VISp' 'VISp' 'VISp' 'VISp' 'VISp' 'VISp'\n",
      " 'VISp' 'VISp' 'VISp' 'VISp' 'VISp' 'VISp' 'VISp' 'VISp' 'VISp' 'VISp'\n",
      " 'VISp' 'VISp' 'VISp' 'VISp' 'VISp' 'VISp' 'VISp' 'VISp' 'VISp' 'VISp'\n",
      " 'VISp' 'VISp' 'VISp' 'VISp' 'VISp' 'VISp' 'VISp' 'VISp' 'VISp' 'VISp'\n",
      " 'VISp' 'VISp' 'VISp' 'VISp' 'VISp' 'VISp' 'VISp' 'VISp' 'VISp' 'VISp'\n",
      " 'VISp' 'VISp' 'VISp' 'VISp' 'VISp' 'VISp' 'VISp' 'VISp' 'VISp' 'VISp'\n",
      " 'VISp' 'VISp' 'VISp' 'VISp' 'VISp' 'VISp' 'VISp' 'VISp' 'VISp' 'VISp'\n",
      " 'VISp' 'VISp' 'VISp' 'VISp' 'VISp' 'VISp' 'VISp' 'VISp' 'VISp' 'VISp'\n",
      " 'VISp' 'VISp' 'VISp' 'VISp' 'VISp' 'VISp' 'VISp' 'VISp' 'VISp' 'VISp'\n",
      " 'VISp' 'VISp' 'VISp' 'VISp' 'VISp' 'VISp' 'VISp' 'VISp' 'VISp' 'VISp'\n",
      " 'VISp' 'VISp' 'VISp' 'VISp' 'VISp' 'VISp' 'VISp' 'root' 'root' 'root'\n",
      " 'root']\n"
     ]
    },
    {
     "name": "stderr",
     "output_type": "stream",
     "text": [
      "/opt/conda/lib/python3.11/site-packages/pynwb/base.py:193: UserWarning: IntervalSeries 'wheel_moves': Length of data does not match length of timestamps. Your data may be transposed. Time should be on the 0th dimension\n",
      "  warn(\"%s '%s': Length of data does not match length of timestamps. Your data may be transposed. \"\n"
     ]
    }
   ],
   "source": [
    "with pynwb.NWBHDF5IO(nwb_file_path, 'r') as io:\n",
    "        nwb_data = io.read()\n",
    "        if 'location' in nwb_data.electrodes.colnames:\n",
    "            brain_regions = nwb_data.electrodes['location'][:]\n",
    "            print(brain_regions)"
   ]
  },
  {
   "cell_type": "code",
   "execution_count": 99,
   "id": "fdb856d0-0860-47a3-b306-94f80d3a9541",
   "metadata": {},
   "outputs": [
    {
     "name": "stdout",
     "output_type": "stream",
     "text": [
      "Electrode x info: nan\n",
      "Electrode y info: nan\n",
      "Electrode z info: nan\n",
      "Electrode imp info: nan\n",
      "Electrode location info: LS\n",
      "Electrode filtering info: none\n",
      "Electrode group info: Probe1 pynwb.ecephys.ElectrodeGroup at 0x139689639101136\n",
      "Fields:\n",
      "  description: Neuropixels Phase3A opt3\n",
      "  device: 0 pynwb.device.Device at 0x139689639103248\n",
      "\n",
      "Electrode group_name info: Probe1\n",
      "Electrode site_id info: 0\n",
      "Electrode site_position info: [43. 20.]\n",
      "Electrode ccf_ap info: 4432.3\n",
      "Electrode ccf_dv info: 4699.7\n",
      "Electrode ccf_lr info: 5002.3\n",
      "Electrode entry_point_rl info: -640\n",
      "Electrode entry_point_ap info: 1500\n",
      "Electrode vertical_angle info: 81.40013133\n",
      "Electrode horizontal_angle info: 172.9597971\n",
      "Electrode axial_angle info: 0\n",
      "Electrode distance_advanced info: 3800\n"
     ]
    },
    {
     "name": "stderr",
     "output_type": "stream",
     "text": [
      "/opt/conda/lib/python3.11/site-packages/pynwb/base.py:193: UserWarning: IntervalSeries 'wheel_moves': Length of data does not match length of timestamps. Your data may be transposed. Time should be on the 0th dimension\n",
      "  warn(\"%s '%s': Length of data does not match length of timestamps. Your data may be transposed. \"\n"
     ]
    }
   ],
   "source": [
    "with pynwb.NWBHDF5IO(nwb_file_path, 'r') as io:\n",
    "        nwbfile = io.read()\n",
    "        # Example to fetch information for the first unit\n",
    "        electrode_indices = nwbfile.units['electrodes'][22]  # Adjust the index [0] as needed\n",
    "        for idx in electrode_indices:\n",
    "            electrode_info = nwbfile.electrodes[idx]\n",
    "            print(f\"Electrode {idx} info: {electrode_info.data[0]}\")\n"
   ]
  },
  {
   "cell_type": "code",
   "execution_count": 79,
   "id": "7395ffa4-18e6-4858-81ba-992ccf686eee",
   "metadata": {},
   "outputs": [
    {
     "name": "stdout",
     "output_type": "stream",
     "text": [
      "(1085,)\n"
     ]
    },
    {
     "name": "stderr",
     "output_type": "stream",
     "text": [
      "/opt/conda/lib/python3.11/site-packages/pynwb/base.py:193: UserWarning: IntervalSeries 'wheel_moves': Length of data does not match length of timestamps. Your data may be transposed. Time should be on the 0th dimension\n",
      "  warn(\"%s '%s': Length of data does not match length of timestamps. Your data may be transposed. \"\n"
     ]
    }
   ],
   "source": [
    "with pynwb.NWBHDF5IO(nwb_file_path, 'r') as io:\n",
    "        nwbfile = io.read()\n",
    "        # Example to fetch information for the first unit\n",
    "        electrode_indices = nwbfile.units['electrodes']\n",
    "        print(electrode_indices.shape)"
   ]
  },
  {
   "cell_type": "code",
   "execution_count": 105,
   "id": "2977e8d0-8965-4b60-bf14-becf03076f7f",
   "metadata": {},
   "outputs": [
    {
     "name": "stderr",
     "output_type": "stream",
     "text": [
      "/opt/conda/lib/python3.11/site-packages/pynwb/base.py:193: UserWarning: IntervalSeries 'wheel_moves': Length of data does not match length of timestamps. Your data may be transposed. Time should be on the 0th dimension\n",
      "  warn(\"%s '%s': Length of data does not match length of timestamps. Your data may be transposed. \"\n"
     ]
    },
    {
     "name": "stdout",
     "output_type": "stream",
     "text": [
      "[247 246 244 245 248 249 242 243 250 252 240 251 241 253 238 254 239 255\n",
      " 236 256 237 257 234  31  86 258 267  26 328  84  11  29 259 102 235 232\n",
      "  69 285 185 288 271 275 327 266  33  27  67 329  88  54]\n"
     ]
    }
   ],
   "source": [
    "with pynwb.NWBHDF5IO(nwb_file_path, 'r') as io:\n",
    "        nwb_data = io.read()\n",
    "        for i in range(1):\n",
    "            unit = nwb_data.units[i]\n",
    "            #print(unit['spike_times'][:].values[0].shape)\n",
    "            print(unit['electrodes'].values[0])"
   ]
  },
  {
   "cell_type": "code",
   "execution_count": 3,
   "id": "9d1b883a-0d9f-4644-8b41-c2edb610015b",
   "metadata": {},
   "outputs": [
    {
     "name": "stdout",
     "output_type": "stream",
     "text": [
      "[  0   1   2   3   4   5   6   7   8   9  10  11  12  13  14  15  16  17\n",
      "  18  19  20  21  22  23  24  25  26  27  28  29  30  31  32  33  34  35\n",
      "  37  38  39  40  41  42  43  44  45  46  47  48  49  50  51  52  53  54\n",
      "  55  56  57  58  59  60  61  62  63  64  65  66  67  68  69  70  71  72\n",
      "  73  74  76  77  78  79  80  81  82  83  84  85  86  87  88  89  90  91\n",
      "  92  93  94  95  96  97  98  99 100 101 102 103 104 105 106 107 108 109\n",
      " 110 111 113 114 115 116 117 118 119 120 121 122 123 124 125 126 127 128\n",
      " 129 130 131 132 133 134 135 136 137 138 139 140 141 142 143 144 145 146\n",
      " 147 148 149 150 152 153 154 155 156 157 158 159 160 161 162 163 164 165\n",
      " 166 167 168 169 170 171 172 173 174 175 176 177 178 179 180 181 182 183\n",
      " 184 185 186 187 189 190 191 192 193 194 195 196 197 198 199 200 201 202\n",
      " 203 204 205 206 207 208 209 210 211 212 213 214 215 216 217 218 219 220\n",
      " 221 222 223 224 225 226 228 229 230 231 232 233 234 235 236 237 238 239\n",
      " 240 241 242 243 244 245 246 247 248 249 250 251 252 253 254 255 256 257\n",
      " 258 259 260 261 262 263 265 266 267 268 269 270 271 272 273 274 275 276\n",
      " 277 278 279 280 281 282 283 284 285 286 287 288 289 290 291 292 293 294\n",
      " 295 296 297 298 299 300 301 302 304 305 306 307 308 309 310 311 312 313\n",
      " 314 315 316 317 318 319 320 321 322 323 324 325 326 327 328 329 330 331\n",
      " 332 333 334 335 336 337 338 339 341 342 343 344 345 346 347 348 349 350\n",
      " 351 352 353 354 355 356 357 358 359 360 361 362 363 364 365 366 367 368\n",
      " 369 370 371 372 373 374 375 376 377 378 380 381 382 383   0   1   2   3\n",
      "   4   5   6   7   8   9  10  11  12  13  14  15  16  17  18  19  20  21\n",
      "  22  23  24  25  26  27  28  29  30  31  32  33  34  35  37  38  39  40\n",
      "  41  42  43  44  45  46  47  48  49  50  51  52  53  54  55  56  57  58\n",
      "  59  60  61  62  63  64  65  66  67  68  69  70  71  72  73  74  76  77\n",
      "  78  79  80  81  82  83  84  85  86  87  88  89  90  91  92  93  94  95\n",
      "  96  97  98  99 100 101 102 103 104 105 106 107 108 109 110 111 113 114\n",
      " 115 116 117 118 119 120 121 122 123 124 125 126 127 128 129 130 131 132\n",
      " 133 134 135 136 137 138 139 140 141 142 143 144 145 146 147 148 149 150\n",
      " 152 153 154 155 156 157 158 159 160 161 162 163 164 165 166 167 168 169\n",
      " 170 171 172 173 174 175 176 177 178 179 180 181 182 183 184 185 186 187\n",
      " 189 190 191 192 193 194 195 196 197 198 199 200 201 202 203 204 205 206\n",
      " 207 208 209 210 211 212 213 214 215 216 217 218 219 220 221 222 223 224\n",
      " 225 226 228 229 230 231 232 233 234 235 236 237 238 239 240 241 242 243\n",
      " 244 245 246 247 248 249 250 251 252 253 254 255 256 257 258 259 260 261\n",
      " 262 263 265 266 267 268 269 270 271 272 273 274 275 276 277 278 279 280\n",
      " 281 282 283 284 285 286 287 288 289 290 291 292 293 294 295 296 297 298\n",
      " 299 300 301 302 304 305 306 307 308 309 310 311 312 313 314 315 316 317\n",
      " 318 319 320 321 322 323 324 325 326 327 328 329 330 331 332 333 334 335\n",
      " 336 337 338 339 341 342 343 344 345 346 347 348 349 350 351 352 353 354\n",
      " 355 356 357 358 359 360 361 362 363 364 365 366 367 368 369 370 371 372\n",
      " 373 374 375 376 377 378 380 381 382 383]\n"
     ]
    }
   ],
   "source": [
    "with pynwb.NWBHDF5IO(nwb_file_path, 'r') as io:\n",
    "        nwbfile = io.read()\n",
    "        electrode_info = nwbfile.electrodes\n",
    "        print(electrode_info['site_id'].data[:])\n",
    "        location = electrode_info['location'].data[:]\n",
    "    "
   ]
  },
  {
   "cell_type": "code",
   "execution_count": 15,
   "id": "df179401-8d4e-4cd8-8807-c23c0759ad9b",
   "metadata": {},
   "outputs": [
    {
     "name": "stdout",
     "output_type": "stream",
     "text": [
      "LS\n",
      "LS\n",
      "LS\n",
      "LS\n",
      "LS\n",
      "LS\n",
      "LS\n",
      "LS\n",
      "LS\n",
      "LS\n",
      "LS\n",
      "LS\n",
      "LS\n",
      "LS\n",
      "LS\n",
      "LS\n",
      "LS\n",
      "LS\n",
      "LS\n",
      "LS\n",
      "LS\n",
      "LS\n",
      "LS\n",
      "LS\n",
      "LS\n",
      "LS\n",
      "LS\n",
      "LS\n",
      "LS\n",
      "LS\n",
      "LS\n",
      "LS\n",
      "LS\n",
      "LS\n",
      "ACA\n",
      "LS\n",
      "MOs\n",
      "root\n",
      "LS\n",
      "root\n",
      "LS\n",
      "ACA\n",
      "MOs\n",
      "root\n",
      "LS\n",
      "ACA\n",
      "ACA\n",
      "MOs\n",
      "ACA\n",
      "MOs\n"
     ]
    }
   ],
   "source": [
    "for i in elec:\n",
    "    print(location[i])"
   ]
  },
  {
   "cell_type": "code",
   "execution_count": null,
   "id": "19b65902-1c48-482a-bf00-908d29950dfc",
   "metadata": {},
   "outputs": [],
   "source": []
  }
 ],
 "metadata": {
  "kernelspec": {
   "display_name": "Python 3 (ipykernel)",
   "language": "python",
   "name": "python3"
  },
  "language_info": {
   "codemirror_mode": {
    "name": "ipython",
    "version": 3
   },
   "file_extension": ".py",
   "mimetype": "text/x-python",
   "name": "python",
   "nbconvert_exporter": "python",
   "pygments_lexer": "ipython3",
   "version": "3.11.6"
  }
 },
 "nbformat": 4,
 "nbformat_minor": 5
}
