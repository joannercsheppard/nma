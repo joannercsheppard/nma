{
 "cells": [
  {
   "cell_type": "code",
   "execution_count": 1,
   "id": "356462e0-b9af-4a25-9947-08219e79b0b2",
   "metadata": {},
   "outputs": [
    {
     "data": {
      "text/plain": [
       "['sub-Cori_ses-20161214T120000.nwb',\n",
       " 'sub-Cori_ses-20161218T120000.nwb',\n",
       " 'sub-Cori_ses-20161217T120000.nwb']"
      ]
     },
     "execution_count": 1,
     "metadata": {},
     "output_type": "execute_result"
    }
   ],
   "source": [
    "import os\n",
    "import matplotlib.pyplot as plt\n",
    "import numpy as np\n",
    "import pynwb\n",
    "\n",
    "# Define the path to the folder\n",
    "folder_path = '000017/sub-Cori/'\n",
    "\n",
    "# Check if the folder exists and list its contents\n",
    "if os.path.exists(folder_path):\n",
    "    contents = os.listdir(folder_path)\n",
    "else:\n",
    "    contents = None\n",
    "\n",
    "contents"
   ]
  },
  {
   "cell_type": "code",
   "execution_count": 8,
   "id": "29211a43-cc15-4cd1-b405-e8d4428e7e60",
   "metadata": {},
   "outputs": [],
   "source": [
    "with pynwb.NWBHDF5IO(nwb_file_path, 'r') as io:\n",
    "        nwbfile = io.read()\n",
    "        electrode_info = nwbfile.electrodes\n",
    "        location = electrode_info['location'].data[:]"
   ]
  },
  {
   "cell_type": "code",
   "execution_count": 13,
   "id": "fb628db2-1c24-41b3-8112-5111b73fb23d",
   "metadata": {},
   "outputs": [
    {
     "name": "stderr",
     "output_type": "stream",
     "text": [
      "/opt/conda/lib/python3.11/site-packages/pynwb/base.py:193: UserWarning: IntervalSeries 'wheel_moves': Length of data does not match length of timestamps. Your data may be transposed. Time should be on the 0th dimension\n",
      "  warn(\"%s '%s': Length of data does not match length of timestamps. Your data may be transposed. \"\n"
     ]
    }
   ],
   "source": [
    "nwb_file_path = f'{folder_path}/{contents[0]}'\n",
    "region = []\n",
    "with pynwb.NWBHDF5IO(nwb_file_path, 'r') as io:\n",
    "    nwb_data = io.read()\n",
    "    length = len(nwb_data.units)\n",
    "    for i in range(length):\n",
    "        loc = []\n",
    "        unit = nwb_data.units[i]\n",
    "        elec = unit['electrodes'][:].values[0]\n",
    "        for i in elec:\n",
    "            loc.append(location[i])\n",
    "        maxval = max(set(loc), key=loc.count)\n",
    "        region.append(maxval)"
   ]
  },
  {
   "cell_type": "code",
   "execution_count": 16,
   "id": "e8658713-ae6f-4459-a7c8-9ba4db11e036",
   "metadata": {},
   "outputs": [
    {
     "data": {
      "text/plain": [
       "['ACA', 'ACA', 'ACA', 'ACA', 'MOs']"
      ]
     },
     "execution_count": 16,
     "metadata": {},
     "output_type": "execute_result"
    }
   ],
   "source": [
    "region[0:5]"
   ]
  },
  {
   "cell_type": "code",
   "execution_count": null,
   "id": "86fd9c29-643a-4586-a127-b411e5d8162b",
   "metadata": {},
   "outputs": [],
   "source": []
  }
 ],
 "metadata": {
  "kernelspec": {
   "display_name": "Python 3 (ipykernel)",
   "language": "python",
   "name": "python3"
  },
  "language_info": {
   "codemirror_mode": {
    "name": "ipython",
    "version": 3
   },
   "file_extension": ".py",
   "mimetype": "text/x-python",
   "name": "python",
   "nbconvert_exporter": "python",
   "pygments_lexer": "ipython3",
   "version": "3.11.6"
  }
 },
 "nbformat": 4,
 "nbformat_minor": 5
}
