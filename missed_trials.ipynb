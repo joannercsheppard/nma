{
 "cells": [
  {
   "cell_type": "code",
   "execution_count": 1,
   "id": "7d8f0eef-1cc4-4ae2-9b9a-c1a6a515c6c1",
   "metadata": {},
   "outputs": [
    {
     "data": {
      "text/plain": [
       "['sub-Cori_ses-20161214T120000.nwb',\n",
       " 'sub-Cori_ses-20161218T120000.nwb',\n",
       " 'sub-Cori_ses-20161217T120000.nwb']"
      ]
     },
     "execution_count": 1,
     "metadata": {},
     "output_type": "execute_result"
    }
   ],
   "source": [
    "import os\n",
    "import matplotlib.pyplot as plt\n",
    "import numpy as np\n",
    "import pynwb\n",
    "\n",
    "# Define the path to the folder\n",
    "folder_path = '000017/sub-Cori/'\n",
    "\n",
    "# Check if the folder exists and list its contents\n",
    "if os.path.exists(folder_path):\n",
    "    contents = os.listdir(folder_path)\n",
    "else:\n",
    "    contents = None\n",
    "\n",
    "contents"
   ]
  },
  {
   "cell_type": "code",
   "execution_count": 2,
   "id": "023b1e96-0ce8-4084-995b-a6270f59c12d",
   "metadata": {},
   "outputs": [],
   "source": [
    "def open_nwb_data(nwb_file_path):\n",
    "    \"\"\"\n",
    "    Opens an NWB file and returns the NWB data object.\n",
    "\n",
    "    Parameters:\n",
    "    nwb_file_path (str): The file path of the NWB file.\n",
    "\n",
    "    Returns:\n",
    "    NWBData: An object containing the NWB data.\n",
    "    \"\"\"\n",
    "    with pynwb.NWBHDF5IO(nwb_file_path, 'r') as io:\n",
    "        return io.read()\n"
   ]
  },
  {
   "cell_type": "code",
   "execution_count": 3,
   "id": "f1c09c2b-7780-40a3-a84b-f2101b01dc1e",
   "metadata": {},
   "outputs": [
    {
     "name": "stderr",
     "output_type": "stream",
     "text": [
      "/opt/conda/lib/python3.11/site-packages/pynwb/base.py:193: UserWarning: IntervalSeries 'wheel_moves': Length of data does not match length of timestamps. Your data may be transposed. Time should be on the 0th dimension\n",
      "  warn(\"%s '%s': Length of data does not match length of timestamps. Your data may be transposed. \"\n"
     ]
    },
    {
     "data": {
      "text/html": [
       "\n",
       "        <style>\n",
       "            .container-fields {\n",
       "                font-family: \"Open Sans\", Arial, sans-serif;\n",
       "            }\n",
       "            .container-fields .field-value {\n",
       "                color: #00788E;\n",
       "            }\n",
       "            .container-fields details > summary {\n",
       "                cursor: pointer;\n",
       "                display: list-item;\n",
       "            }\n",
       "            .container-fields details > summary:hover {\n",
       "                color: #0A6EAA;\n",
       "            }\n",
       "        </style>\n",
       "        \n",
       "        <script>\n",
       "            function copyToClipboard(text) {\n",
       "                navigator.clipboard.writeText(text).then(function() {\n",
       "                    console.log('Copied to clipboard: ' + text);\n",
       "                }, function(err) {\n",
       "                    console.error('Could not copy text: ', err);\n",
       "                });\n",
       "            }\n",
       "\n",
       "            document.addEventListener('DOMContentLoaded', function() {\n",
       "                let fieldKeys = document.querySelectorAll('.container-fields .field-key');\n",
       "                fieldKeys.forEach(function(fieldKey) {\n",
       "                    fieldKey.addEventListener('click', function() {\n",
       "                        let accessCode = fieldKey.getAttribute('title').replace('Access code: ', '');\n",
       "                        copyToClipboard(accessCode);\n",
       "                    });\n",
       "                });\n",
       "            });\n",
       "        </script>\n",
       "        <div class='container-wrap'><div class='container-header'><div class='xr-obj-type'><h3>root (NWBFile)</h3></div></div><div style=\"margin-left: 0px;\" class=\"container-fields\"><span class=\"field-key\" title=\".fields['session_description']\">session_description:</span> <span class=\"field-value\">Neuropixels recording during visual discrimination in awake mice.</span></div><div style=\"margin-left: 0px;\" class=\"container-fields\"><span class=\"field-key\" title=\".fields['identifier']\">identifier:</span> <span class=\"field-value\">Cori_2016-12-14</span></div><div style=\"margin-left: 0px;\" class=\"container-fields\"><span class=\"field-key\" title=\".fields['session_start_time']\">session_start_time:</span> <span class=\"field-value\">2016-12-14 12:00:00+00:00</span></div><div style=\"margin-left: 0px;\" class=\"container-fields\"><span class=\"field-key\" title=\".fields['timestamps_reference_time']\">timestamps_reference_time:</span> <span class=\"field-value\">2016-12-14 12:00:00+00:00</span></div><details><summary style=\"display: list-item; margin-left: 0px;\" class=\"container-fields field-key\" title=\".fields['file_create_date']\"><b>file_create_date</b></summary><div style=\"margin-left: 20px;\" class=\"container-fields\"><span class=\"field-value\" title=\".fields['file_create_date'][0]\">2019-11-26 13:54:42.972670-08:00</span></div></details><div style=\"margin-left: 0px;\" class=\"container-fields\"><span class=\"field-key\" title=\".fields['experimenter']\">experimenter:</span> <span class=\"field-value\">('Nick Steinmetz',)</span></div><div style=\"margin-left: 0px;\" class=\"container-fields\"><span class=\"field-key\" title=\".fields['related_publications']\">related_publications:</span> <span class=\"field-value\">('DOI 10.1038/s41586-019-1787-x',)</span></div><details><summary style=\"display: list-item; margin-left: 0px;\" class=\"container-fields field-key\" title=\".fields['acquisition']\"><b>acquisition (2)</b></summary><details><summary style=\"display: list-item; margin-left: 20px;\" class=\"container-fields field-key\" title=\".fields['acquisition']['lickPiezo']\"><b>lickPiezo</b></summary><div style=\"margin-left: 40px;\" class=\"container-fields\"><span class=\"field-key\" title=\".fields['acquisition']['lickPiezo'].fields['starting_time']\">starting_time:</span> <span class=\"field-value\">33.65250410481991</span></div><div style=\"margin-left: 40px;\" class=\"container-fields\"><span class=\"field-key\" title=\".fields['acquisition']['lickPiezo'].fields['rate']\">rate:</span> <span class=\"field-value\">0.002000031887945625</span></div><div style=\"margin-left: 40px;\" class=\"container-fields\"><span class=\"field-key\" title=\".fields['acquisition']['lickPiezo'].fields['resolution']\">resolution:</span> <span class=\"field-value\">-1.0</span></div><div style=\"margin-left: 40px;\" class=\"container-fields\"><span class=\"field-key\" title=\".fields['acquisition']['lickPiezo'].fields['comments']\">comments:</span> <span class=\"field-value\">no comments</span></div><div style=\"margin-left: 40px;\" class=\"container-fields\"><span class=\"field-key\" title=\".fields['acquisition']['lickPiezo'].fields['description']\">description:</span> <span class=\"field-value\">Voltage values from a thin-film piezo connected to the lick spout, so that values are proportional to deflection of the spout and licks can be detected as peaks of the signal.</span></div><div style=\"margin-left: 40px;\" class=\"container-fields\"><span class=\"field-key\" title=\".fields['acquisition']['lickPiezo'].fields['conversion']\">conversion:</span> <span class=\"field-value\">1.0</span></div><div style=\"margin-left: 40px;\" class=\"container-fields\"><span class=\"field-key\" title=\".fields['acquisition']['lickPiezo'].fields['offset']\">offset:</span> <span class=\"field-value\">0.0</span></div><div style=\"margin-left: 40px;\" class=\"container-fields\"><span class=\"field-key\" title=\".fields['acquisition']['lickPiezo'].fields['unit']\">unit:</span> <span class=\"field-value\">V</span></div><details><summary style=\"display: list-item; margin-left: 40px;\" class=\"container-fields field-key\" title=\".fields['acquisition']['lickPiezo'].fields['data']\"><b>data</b></summary></details><div style=\"margin-left: 40px;\" class=\"container-fields\"><span class=\"field-key\" title=\".fields['acquisition']['lickPiezo'].fields['starting_time_unit']\">starting_time_unit:</span> <span class=\"field-value\">seconds</span></div></details><details><summary style=\"display: list-item; margin-left: 20px;\" class=\"container-fields field-key\" title=\".fields['acquisition']['wheel_position']\"><b>wheel_position</b></summary><div style=\"margin-left: 40px;\" class=\"container-fields\"><span class=\"field-key\" title=\".fields['acquisition']['wheel_position'].fields['starting_time']\">starting_time:</span> <span class=\"field-value\">33.65250410481991</span></div><div style=\"margin-left: 40px;\" class=\"container-fields\"><span class=\"field-key\" title=\".fields['acquisition']['wheel_position'].fields['rate']\">rate:</span> <span class=\"field-value\">0.00040000637758912496</span></div><div style=\"margin-left: 40px;\" class=\"container-fields\"><span class=\"field-key\" title=\".fields['acquisition']['wheel_position'].fields['resolution']\">resolution:</span> <span class=\"field-value\">-1.0</span></div><div style=\"margin-left: 40px;\" class=\"container-fields\"><span class=\"field-key\" title=\".fields['acquisition']['wheel_position'].fields['comments']\">comments:</span> <span class=\"field-value\">The wheel has radius 31 mm and 1440 ticks per revolution, so multiply by 2*pi*r/tpr=0.135 to convert to millimeters. Positive velocity (increasing numbers) correspond to clockwise turns (if looking at the wheel from behind the mouse), i.e. turns that are in the correct direction for stimuli presented to the left. Likewise negative velocity corresponds to right choices.</span></div><div style=\"margin-left: 40px;\" class=\"container-fields\"><span class=\"field-key\" title=\".fields['acquisition']['wheel_position'].fields['description']\">description:</span> <span class=\"field-value\">The position reading of the rotary encoder attached to the rubber wheel that the mouse pushes left and right with his forelimbs.</span></div><div style=\"margin-left: 40px;\" class=\"container-fields\"><span class=\"field-key\" title=\".fields['acquisition']['wheel_position'].fields['conversion']\">conversion:</span> <span class=\"field-value\">0.135</span></div><div style=\"margin-left: 40px;\" class=\"container-fields\"><span class=\"field-key\" title=\".fields['acquisition']['wheel_position'].fields['offset']\">offset:</span> <span class=\"field-value\">0.0</span></div><div style=\"margin-left: 40px;\" class=\"container-fields\"><span class=\"field-key\" title=\".fields['acquisition']['wheel_position'].fields['unit']\">unit:</span> <span class=\"field-value\">mm</span></div><details><summary style=\"display: list-item; margin-left: 40px;\" class=\"container-fields field-key\" title=\".fields['acquisition']['wheel_position'].fields['data']\"><b>data</b></summary></details><div style=\"margin-left: 40px;\" class=\"container-fields\"><span class=\"field-key\" title=\".fields['acquisition']['wheel_position'].fields['starting_time_unit']\">starting_time_unit:</span> <span class=\"field-value\">seconds</span></div></details></details><details><summary style=\"display: list-item; margin-left: 0px;\" class=\"container-fields field-key\" title=\".fields['stimulus']\"><b>stimulus (6)</b></summary><details><summary style=\"display: list-item; margin-left: 20px;\" class=\"container-fields field-key\" title=\".fields['stimulus']['passive_beeps']\"><b>passive_beeps</b></summary><div style=\"margin-left: 40px;\" class=\"container-fields\"><span class=\"field-key\" title=\".fields['stimulus']['passive_beeps'].fields['resolution']\">resolution:</span> <span class=\"field-value\">-1.0</span></div><div style=\"margin-left: 40px;\" class=\"container-fields\"><span class=\"field-key\" title=\".fields['stimulus']['passive_beeps'].fields['comments']\">comments:</span> <span class=\"field-value\">no comments</span></div><div style=\"margin-left: 40px;\" class=\"container-fields\"><span class=\"field-key\" title=\".fields['stimulus']['passive_beeps'].fields['description']\">description:</span> <span class=\"field-value\">Auditory tones of the same frequency as the auditory tone cue in the task</span></div><div style=\"margin-left: 40px;\" class=\"container-fields\"><span class=\"field-key\" title=\".fields['stimulus']['passive_beeps'].fields['conversion']\">conversion:</span> <span class=\"field-value\">1.0</span></div><div style=\"margin-left: 40px;\" class=\"container-fields\"><span class=\"field-key\" title=\".fields['stimulus']['passive_beeps'].fields['offset']\">offset:</span> <span class=\"field-value\">0.0</span></div><div style=\"margin-left: 40px;\" class=\"container-fields\"><span class=\"field-key\" title=\".fields['stimulus']['passive_beeps'].fields['unit']\">unit:</span> <span class=\"field-value\">n/a</span></div><details><summary style=\"display: list-item; margin-left: 40px;\" class=\"container-fields field-key\" title=\".fields['stimulus']['passive_beeps'].fields['data']\"><b>data</b></summary></details><details><summary style=\"display: list-item; margin-left: 40px;\" class=\"container-fields field-key\" title=\".fields['stimulus']['passive_beeps'].fields['timestamps']\"><b>timestamps</b></summary></details><div style=\"margin-left: 40px;\" class=\"container-fields\"><span class=\"field-key\" title=\".fields['stimulus']['passive_beeps'].fields['timestamps_unit']\">timestamps_unit:</span> <span class=\"field-value\">seconds</span></div><div style=\"margin-left: 40px;\" class=\"container-fields\"><span class=\"field-key\" title=\".fields['stimulus']['passive_beeps'].fields['interval']\">interval:</span> <span class=\"field-value\">1</span></div></details><details><summary style=\"display: list-item; margin-left: 20px;\" class=\"container-fields field-key\" title=\".fields['stimulus']['passive_click_times']\"><b>passive_click_times</b></summary><div style=\"margin-left: 40px;\" class=\"container-fields\"><span class=\"field-key\" title=\".fields['stimulus']['passive_click_times'].fields['resolution']\">resolution:</span> <span class=\"field-value\">-1.0</span></div><div style=\"margin-left: 40px;\" class=\"container-fields\"><span class=\"field-key\" title=\".fields['stimulus']['passive_click_times'].fields['comments']\">comments:</span> <span class=\"field-value\">no comments</span></div><div style=\"margin-left: 40px;\" class=\"container-fields\"><span class=\"field-key\" title=\".fields['stimulus']['passive_click_times'].fields['description']\">description:</span> <span class=\"field-value\">Opening of the reward valve, but with a clamp in place such that no water flows. Therefore the auditory sound of the valve is heard, but no water reward is obtained.</span></div><div style=\"margin-left: 40px;\" class=\"container-fields\"><span class=\"field-key\" title=\".fields['stimulus']['passive_click_times'].fields['conversion']\">conversion:</span> <span class=\"field-value\">1.0</span></div><div style=\"margin-left: 40px;\" class=\"container-fields\"><span class=\"field-key\" title=\".fields['stimulus']['passive_click_times'].fields['offset']\">offset:</span> <span class=\"field-value\">0.0</span></div><div style=\"margin-left: 40px;\" class=\"container-fields\"><span class=\"field-key\" title=\".fields['stimulus']['passive_click_times'].fields['unit']\">unit:</span> <span class=\"field-value\">n/a</span></div><details><summary style=\"display: list-item; margin-left: 40px;\" class=\"container-fields field-key\" title=\".fields['stimulus']['passive_click_times'].fields['data']\"><b>data</b></summary></details><details><summary style=\"display: list-item; margin-left: 40px;\" class=\"container-fields field-key\" title=\".fields['stimulus']['passive_click_times'].fields['timestamps']\"><b>timestamps</b></summary></details><div style=\"margin-left: 40px;\" class=\"container-fields\"><span class=\"field-key\" title=\".fields['stimulus']['passive_click_times'].fields['timestamps_unit']\">timestamps_unit:</span> <span class=\"field-value\">seconds</span></div><div style=\"margin-left: 40px;\" class=\"container-fields\"><span class=\"field-key\" title=\".fields['stimulus']['passive_click_times'].fields['interval']\">interval:</span> <span class=\"field-value\">1</span></div></details><details><summary style=\"display: list-item; margin-left: 20px;\" class=\"container-fields field-key\" title=\".fields['stimulus']['passive_left_contrast']\"><b>passive_left_contrast</b></summary><div style=\"margin-left: 40px;\" class=\"container-fields\"><span class=\"field-key\" title=\".fields['stimulus']['passive_left_contrast'].fields['resolution']\">resolution:</span> <span class=\"field-value\">-1.0</span></div><div style=\"margin-left: 40px;\" class=\"container-fields\"><span class=\"field-key\" title=\".fields['stimulus']['passive_left_contrast'].fields['comments']\">comments:</span> <span class=\"field-value\">no comments</span></div><div style=\"margin-left: 40px;\" class=\"container-fields\"><span class=\"field-key\" title=\".fields['stimulus']['passive_left_contrast'].fields['description']\">description:</span> <span class=\"field-value\">Gratings of the same size, spatial freq, position, etc as during the discrimination task.</span></div><div style=\"margin-left: 40px;\" class=\"container-fields\"><span class=\"field-key\" title=\".fields['stimulus']['passive_left_contrast'].fields['conversion']\">conversion:</span> <span class=\"field-value\">1.0</span></div><div style=\"margin-left: 40px;\" class=\"container-fields\"><span class=\"field-key\" title=\".fields['stimulus']['passive_left_contrast'].fields['offset']\">offset:</span> <span class=\"field-value\">0.0</span></div><div style=\"margin-left: 40px;\" class=\"container-fields\"><span class=\"field-key\" title=\".fields['stimulus']['passive_left_contrast'].fields['unit']\">unit:</span> <span class=\"field-value\">proportion contrast</span></div><details><summary style=\"display: list-item; margin-left: 40px;\" class=\"container-fields field-key\" title=\".fields['stimulus']['passive_left_contrast'].fields['data']\"><b>data</b></summary></details><details><summary style=\"display: list-item; margin-left: 40px;\" class=\"container-fields field-key\" title=\".fields['stimulus']['passive_left_contrast'].fields['timestamps']\"><b>timestamps</b></summary></details><div style=\"margin-left: 40px;\" class=\"container-fields\"><span class=\"field-key\" title=\".fields['stimulus']['passive_left_contrast'].fields['timestamps_unit']\">timestamps_unit:</span> <span class=\"field-value\">seconds</span></div><div style=\"margin-left: 40px;\" class=\"container-fields\"><span class=\"field-key\" title=\".fields['stimulus']['passive_left_contrast'].fields['interval']\">interval:</span> <span class=\"field-value\">1</span></div></details><details><summary style=\"display: list-item; margin-left: 20px;\" class=\"container-fields field-key\" title=\".fields['stimulus']['passive_right_contrast']\"><b>passive_right_contrast</b></summary><div style=\"margin-left: 40px;\" class=\"container-fields\"><span class=\"field-key\" title=\".fields['stimulus']['passive_right_contrast'].fields['resolution']\">resolution:</span> <span class=\"field-value\">-1.0</span></div><div style=\"margin-left: 40px;\" class=\"container-fields\"><span class=\"field-key\" title=\".fields['stimulus']['passive_right_contrast'].fields['comments']\">comments:</span> <span class=\"field-value\">no comments</span></div><div style=\"margin-left: 40px;\" class=\"container-fields\"><span class=\"field-key\" title=\".fields['stimulus']['passive_right_contrast'].fields['description']\">description:</span> <span class=\"field-value\">Gratings of the same size, spatial freq, position, etc as during the discrimination task.</span></div><div style=\"margin-left: 40px;\" class=\"container-fields\"><span class=\"field-key\" title=\".fields['stimulus']['passive_right_contrast'].fields['conversion']\">conversion:</span> <span class=\"field-value\">1.0</span></div><div style=\"margin-left: 40px;\" class=\"container-fields\"><span class=\"field-key\" title=\".fields['stimulus']['passive_right_contrast'].fields['offset']\">offset:</span> <span class=\"field-value\">0.0</span></div><div style=\"margin-left: 40px;\" class=\"container-fields\"><span class=\"field-key\" title=\".fields['stimulus']['passive_right_contrast'].fields['unit']\">unit:</span> <span class=\"field-value\">proportion contrast</span></div><details><summary style=\"display: list-item; margin-left: 40px;\" class=\"container-fields field-key\" title=\".fields['stimulus']['passive_right_contrast'].fields['data']\"><b>data</b></summary></details><details><summary style=\"display: list-item; margin-left: 40px;\" class=\"container-fields field-key\" title=\".fields['stimulus']['passive_right_contrast'].fields['timestamps']\"><b>timestamps</b></summary></details><div style=\"margin-left: 40px;\" class=\"container-fields\"><span class=\"field-key\" title=\".fields['stimulus']['passive_right_contrast'].fields['timestamps_unit']\">timestamps_unit:</span> <span class=\"field-value\">seconds</span></div><div style=\"margin-left: 40px;\" class=\"container-fields\"><span class=\"field-key\" title=\".fields['stimulus']['passive_right_contrast'].fields['interval']\">interval:</span> <span class=\"field-value\">1</span></div></details><details><summary style=\"display: list-item; margin-left: 20px;\" class=\"container-fields field-key\" title=\".fields['stimulus']['passive_white_noise']\"><b>passive_white_noise</b></summary><div style=\"margin-left: 40px;\" class=\"container-fields\"><span class=\"field-key\" title=\".fields['stimulus']['passive_white_noise'].fields['resolution']\">resolution:</span> <span class=\"field-value\">-1.0</span></div><div style=\"margin-left: 40px;\" class=\"container-fields\"><span class=\"field-key\" title=\".fields['stimulus']['passive_white_noise'].fields['comments']\">comments:</span> <span class=\"field-value\">no comments</span></div><div style=\"margin-left: 40px;\" class=\"container-fields\"><span class=\"field-key\" title=\".fields['stimulus']['passive_white_noise'].fields['description']\">description:</span> <span class=\"field-value\">The sound that accompanies an incorrect response during the discrimination task.</span></div><div style=\"margin-left: 40px;\" class=\"container-fields\"><span class=\"field-key\" title=\".fields['stimulus']['passive_white_noise'].fields['conversion']\">conversion:</span> <span class=\"field-value\">1.0</span></div><div style=\"margin-left: 40px;\" class=\"container-fields\"><span class=\"field-key\" title=\".fields['stimulus']['passive_white_noise'].fields['offset']\">offset:</span> <span class=\"field-value\">0.0</span></div><div style=\"margin-left: 40px;\" class=\"container-fields\"><span class=\"field-key\" title=\".fields['stimulus']['passive_white_noise'].fields['unit']\">unit:</span> <span class=\"field-value\">n/a</span></div><details><summary style=\"display: list-item; margin-left: 40px;\" class=\"container-fields field-key\" title=\".fields['stimulus']['passive_white_noise'].fields['data']\"><b>data</b></summary></details><details><summary style=\"display: list-item; margin-left: 40px;\" class=\"container-fields field-key\" title=\".fields['stimulus']['passive_white_noise'].fields['timestamps']\"><b>timestamps</b></summary></details><div style=\"margin-left: 40px;\" class=\"container-fields\"><span class=\"field-key\" title=\".fields['stimulus']['passive_white_noise'].fields['timestamps_unit']\">timestamps_unit:</span> <span class=\"field-value\">seconds</span></div><div style=\"margin-left: 40px;\" class=\"container-fields\"><span class=\"field-key\" title=\".fields['stimulus']['passive_white_noise'].fields['interval']\">interval:</span> <span class=\"field-value\">1</span></div></details><details><summary style=\"display: list-item; margin-left: 20px;\" class=\"container-fields field-key\" title=\".fields['stimulus']['receptive_field_mapping_sparse_noise']\"><b>receptive_field_mapping_sparse_noise</b></summary><div style=\"margin-left: 40px;\" class=\"container-fields\"><span class=\"field-key\" title=\".fields['stimulus']['receptive_field_mapping_sparse_noise'].fields['resolution']\">resolution:</span> <span class=\"field-value\">-1.0</span></div><div style=\"margin-left: 40px;\" class=\"container-fields\"><span class=\"field-key\" title=\".fields['stimulus']['receptive_field_mapping_sparse_noise'].fields['comments']\">comments:</span> <span class=\"field-value\">The altitude (first column) and azimuth (second column) of the square.</span></div><div style=\"margin-left: 40px;\" class=\"container-fields\"><span class=\"field-key\" title=\".fields['stimulus']['receptive_field_mapping_sparse_noise'].fields['description']\">description:</span> <span class=\"field-value\">White squares shown on the screen with randomized positions and timing - see manuscript Methods.</span></div><div style=\"margin-left: 40px;\" class=\"container-fields\"><span class=\"field-key\" title=\".fields['stimulus']['receptive_field_mapping_sparse_noise'].fields['conversion']\">conversion:</span> <span class=\"field-value\">1.0</span></div><div style=\"margin-left: 40px;\" class=\"container-fields\"><span class=\"field-key\" title=\".fields['stimulus']['receptive_field_mapping_sparse_noise'].fields['offset']\">offset:</span> <span class=\"field-value\">0.0</span></div><div style=\"margin-left: 40px;\" class=\"container-fields\"><span class=\"field-key\" title=\".fields['stimulus']['receptive_field_mapping_sparse_noise'].fields['unit']\">unit:</span> <span class=\"field-value\">degrees visual angle</span></div><details><summary style=\"display: list-item; margin-left: 40px;\" class=\"container-fields field-key\" title=\".fields['stimulus']['receptive_field_mapping_sparse_noise'].fields['data']\"><b>data</b></summary></details><details><summary style=\"display: list-item; margin-left: 40px;\" class=\"container-fields field-key\" title=\".fields['stimulus']['receptive_field_mapping_sparse_noise'].fields['timestamps']\"><b>timestamps</b></summary></details><div style=\"margin-left: 40px;\" class=\"container-fields\"><span class=\"field-key\" title=\".fields['stimulus']['receptive_field_mapping_sparse_noise'].fields['timestamps_unit']\">timestamps_unit:</span> <span class=\"field-value\">seconds</span></div><div style=\"margin-left: 40px;\" class=\"container-fields\"><span class=\"field-key\" title=\".fields['stimulus']['receptive_field_mapping_sparse_noise'].fields['interval']\">interval:</span> <span class=\"field-value\">1</span></div></details></details><details><summary style=\"display: list-item; margin-left: 0px;\" class=\"container-fields field-key\" title=\".fields['keywords']\"><b>keywords</b></summary></details><details><summary style=\"display: list-item; margin-left: 0px;\" class=\"container-fields field-key\" title=\".fields['processing']\"><b>processing (1)</b></summary><details><summary style=\"display: list-item; margin-left: 20px;\" class=\"container-fields field-key\" title=\".fields['processing']['behavior']\"><b>behavior</b></summary><div style=\"margin-left: 40px;\" class=\"container-fields\"><span class=\"field-key\" title=\".fields['processing']['behavior'].fields['description']\">description:</span> <span class=\"field-value\">behavior module</span></div><details><summary style=\"display: list-item; margin-left: 40px;\" class=\"container-fields field-key\" title=\".fields['processing']['behavior'].fields['data_interfaces']\"><b>data_interfaces (4)</b></summary><details><summary style=\"display: list-item; margin-left: 60px;\" class=\"container-fields field-key\" title=\".fields['processing']['behavior'].fields['data_interfaces']['BehavioralEpochs']\"><b>BehavioralEpochs</b></summary><details><summary style=\"display: list-item; margin-left: 80px;\" class=\"container-fields field-key\" title=\".fields['processing']['behavior'].fields['data_interfaces']['BehavioralEpochs'].fields['interval_series']\"><b>interval_series (1)</b></summary><details><summary style=\"display: list-item; margin-left: 100px;\" class=\"container-fields field-key\" title=\".fields['processing']['behavior'].fields['data_interfaces']['BehavioralEpochs'].fields['interval_series']['wheel_moves']\"><b>wheel_moves</b></summary><div style=\"margin-left: 120px;\" class=\"container-fields\"><span class=\"field-key\" title=\".fields['processing']['behavior'].fields['data_interfaces']['BehavioralEpochs'].fields['interval_series']['wheel_moves'].fields['resolution']\">resolution:</span> <span class=\"field-value\">-1.0</span></div><div style=\"margin-left: 120px;\" class=\"container-fields\"><span class=\"field-key\" title=\".fields['processing']['behavior'].fields['data_interfaces']['BehavioralEpochs'].fields['interval_series']['wheel_moves'].fields['comments']\">comments:</span> <span class=\"field-value\">0 for 'flinches' or otherwise unclassified movements, 1 for left/clockwise turns, 2 for right/counter-clockwise turns (where again \"left\" means \"would be the correct direction for a stimulus presented on the left). A detected movement is counted as 'left' or 'right' only if it was sufficient amplitude that it would have registered a correct response (and possibly did), within a minimum amount of time from the start of the movement. Movements failing those criteria are flinch/unclassified type.</span></div><div style=\"margin-left: 120px;\" class=\"container-fields\"><span class=\"field-key\" title=\".fields['processing']['behavior'].fields['data_interfaces']['BehavioralEpochs'].fields['interval_series']['wheel_moves'].fields['description']\">description:</span> <span class=\"field-value\">Detected wheel movements.</span></div><div style=\"margin-left: 120px;\" class=\"container-fields\"><span class=\"field-key\" title=\".fields['processing']['behavior'].fields['data_interfaces']['BehavioralEpochs'].fields['interval_series']['wheel_moves'].fields['conversion']\">conversion:</span> <span class=\"field-value\">1.0</span></div><div style=\"margin-left: 120px;\" class=\"container-fields\"><span class=\"field-key\" title=\".fields['processing']['behavior'].fields['data_interfaces']['BehavioralEpochs'].fields['interval_series']['wheel_moves'].fields['offset']\">offset:</span> <span class=\"field-value\">0.0</span></div><div style=\"margin-left: 120px;\" class=\"container-fields\"><span class=\"field-key\" title=\".fields['processing']['behavior'].fields['data_interfaces']['BehavioralEpochs'].fields['interval_series']['wheel_moves'].fields['unit']\">unit:</span> <span class=\"field-value\">n/a</span></div><details><summary style=\"display: list-item; margin-left: 120px;\" class=\"container-fields field-key\" title=\".fields['processing']['behavior'].fields['data_interfaces']['BehavioralEpochs'].fields['interval_series']['wheel_moves'].fields['data']\"><b>data</b></summary></details><details><summary style=\"display: list-item; margin-left: 120px;\" class=\"container-fields field-key\" title=\".fields['processing']['behavior'].fields['data_interfaces']['BehavioralEpochs'].fields['interval_series']['wheel_moves'].fields['timestamps']\"><b>timestamps</b></summary></details><div style=\"margin-left: 120px;\" class=\"container-fields\"><span class=\"field-key\" title=\".fields['processing']['behavior'].fields['data_interfaces']['BehavioralEpochs'].fields['interval_series']['wheel_moves'].fields['timestamps_unit']\">timestamps_unit:</span> <span class=\"field-value\">seconds</span></div><div style=\"margin-left: 120px;\" class=\"container-fields\"><span class=\"field-key\" title=\".fields['processing']['behavior'].fields['data_interfaces']['BehavioralEpochs'].fields['interval_series']['wheel_moves'].fields['interval']\">interval:</span> <span class=\"field-value\">1</span></div></details></details></details><details><summary style=\"display: list-item; margin-left: 60px;\" class=\"container-fields field-key\" title=\".fields['processing']['behavior'].fields['data_interfaces']['BehavioralEvents']\"><b>BehavioralEvents</b></summary><details><summary style=\"display: list-item; margin-left: 80px;\" class=\"container-fields field-key\" title=\".fields['processing']['behavior'].fields['data_interfaces']['BehavioralEvents'].fields['time_series']\"><b>time_series (1)</b></summary><details><summary style=\"display: list-item; margin-left: 100px;\" class=\"container-fields field-key\" title=\".fields['processing']['behavior'].fields['data_interfaces']['BehavioralEvents'].fields['time_series']['lick_times']\"><b>lick_times</b></summary><div style=\"margin-left: 120px;\" class=\"container-fields\"><span class=\"field-key\" title=\".fields['processing']['behavior'].fields['data_interfaces']['BehavioralEvents'].fields['time_series']['lick_times'].fields['resolution']\">resolution:</span> <span class=\"field-value\">-1.0</span></div><div style=\"margin-left: 120px;\" class=\"container-fields\"><span class=\"field-key\" title=\".fields['processing']['behavior'].fields['data_interfaces']['BehavioralEvents'].fields['time_series']['lick_times'].fields['comments']\">comments:</span> <span class=\"field-value\">no comments</span></div><div style=\"margin-left: 120px;\" class=\"container-fields\"><span class=\"field-key\" title=\".fields['processing']['behavior'].fields['data_interfaces']['BehavioralEvents'].fields['time_series']['lick_times'].fields['description']\">description:</span> <span class=\"field-value\">Extracted times of licks, from the lickPiezo signal.</span></div><div style=\"margin-left: 120px;\" class=\"container-fields\"><span class=\"field-key\" title=\".fields['processing']['behavior'].fields['data_interfaces']['BehavioralEvents'].fields['time_series']['lick_times'].fields['conversion']\">conversion:</span> <span class=\"field-value\">1.0</span></div><div style=\"margin-left: 120px;\" class=\"container-fields\"><span class=\"field-key\" title=\".fields['processing']['behavior'].fields['data_interfaces']['BehavioralEvents'].fields['time_series']['lick_times'].fields['offset']\">offset:</span> <span class=\"field-value\">0.0</span></div><div style=\"margin-left: 120px;\" class=\"container-fields\"><span class=\"field-key\" title=\".fields['processing']['behavior'].fields['data_interfaces']['BehavioralEvents'].fields['time_series']['lick_times'].fields['unit']\">unit:</span> <span class=\"field-value\">n/a</span></div><details><summary style=\"display: list-item; margin-left: 120px;\" class=\"container-fields field-key\" title=\".fields['processing']['behavior'].fields['data_interfaces']['BehavioralEvents'].fields['time_series']['lick_times'].fields['data']\"><b>data</b></summary></details><details><summary style=\"display: list-item; margin-left: 120px;\" class=\"container-fields field-key\" title=\".fields['processing']['behavior'].fields['data_interfaces']['BehavioralEvents'].fields['time_series']['lick_times'].fields['timestamps']\"><b>timestamps</b></summary></details><div style=\"margin-left: 120px;\" class=\"container-fields\"><span class=\"field-key\" title=\".fields['processing']['behavior'].fields['data_interfaces']['BehavioralEvents'].fields['time_series']['lick_times'].fields['timestamps_unit']\">timestamps_unit:</span> <span class=\"field-value\">seconds</span></div><div style=\"margin-left: 120px;\" class=\"container-fields\"><span class=\"field-key\" title=\".fields['processing']['behavior'].fields['data_interfaces']['BehavioralEvents'].fields['time_series']['lick_times'].fields['interval']\">interval:</span> <span class=\"field-value\">1</span></div></details></details></details><details><summary style=\"display: list-item; margin-left: 60px;\" class=\"container-fields field-key\" title=\".fields['processing']['behavior'].fields['data_interfaces']['BehavioralTimeSeries']\"><b>BehavioralTimeSeries</b></summary><details><summary style=\"display: list-item; margin-left: 80px;\" class=\"container-fields field-key\" title=\".fields['processing']['behavior'].fields['data_interfaces']['BehavioralTimeSeries'].fields['time_series']\"><b>time_series (1)</b></summary><details><summary style=\"display: list-item; margin-left: 100px;\" class=\"container-fields field-key\" title=\".fields['processing']['behavior'].fields['data_interfaces']['BehavioralTimeSeries'].fields['time_series']['face_motion_energy']\"><b>face_motion_energy</b></summary><div style=\"margin-left: 120px;\" class=\"container-fields\"><span class=\"field-key\" title=\".fields['processing']['behavior'].fields['data_interfaces']['BehavioralTimeSeries'].fields['time_series']['face_motion_energy'].fields['starting_time']\">starting_time:</span> <span class=\"field-value\">16.07188294974754</span></div><div style=\"margin-left: 120px;\" class=\"container-fields\"><span class=\"field-key\" title=\".fields['processing']['behavior'].fields['data_interfaces']['BehavioralTimeSeries'].fields['time_series']['face_motion_energy'].fields['rate']\">rate:</span> <span class=\"field-value\">0.025246256960525466</span></div><div style=\"margin-left: 120px;\" class=\"container-fields\"><span class=\"field-key\" title=\".fields['processing']['behavior'].fields['data_interfaces']['BehavioralTimeSeries'].fields['time_series']['face_motion_energy'].fields['resolution']\">resolution:</span> <span class=\"field-value\">-1.0</span></div><div style=\"margin-left: 120px;\" class=\"container-fields\"><span class=\"field-key\" title=\".fields['processing']['behavior'].fields['data_interfaces']['BehavioralTimeSeries'].fields['time_series']['face_motion_energy'].fields['comments']\">comments:</span> <span class=\"field-value\">The integrated motion energy across the whole frame, i.e. sum( (thisFrame-lastFrame)^2 ). Some smoothing is applied before this operation.</span></div><div style=\"margin-left: 120px;\" class=\"container-fields\"><span class=\"field-key\" title=\".fields['processing']['behavior'].fields['data_interfaces']['BehavioralTimeSeries'].fields['time_series']['face_motion_energy'].fields['description']\">description:</span> <span class=\"field-value\">Features extracted from the video of the frontal aspect of the subject, including the subject's face and forearms.</span></div><div style=\"margin-left: 120px;\" class=\"container-fields\"><span class=\"field-key\" title=\".fields['processing']['behavior'].fields['data_interfaces']['BehavioralTimeSeries'].fields['time_series']['face_motion_energy'].fields['conversion']\">conversion:</span> <span class=\"field-value\">1.0</span></div><div style=\"margin-left: 120px;\" class=\"container-fields\"><span class=\"field-key\" title=\".fields['processing']['behavior'].fields['data_interfaces']['BehavioralTimeSeries'].fields['time_series']['face_motion_energy'].fields['offset']\">offset:</span> <span class=\"field-value\">0.0</span></div><div style=\"margin-left: 120px;\" class=\"container-fields\"><span class=\"field-key\" title=\".fields['processing']['behavior'].fields['data_interfaces']['BehavioralTimeSeries'].fields['time_series']['face_motion_energy'].fields['unit']\">unit:</span> <span class=\"field-value\">arb. unit</span></div><details><summary style=\"display: list-item; margin-left: 120px;\" class=\"container-fields field-key\" title=\".fields['processing']['behavior'].fields['data_interfaces']['BehavioralTimeSeries'].fields['time_series']['face_motion_energy'].fields['data']\"><b>data</b></summary></details><div style=\"margin-left: 120px;\" class=\"container-fields\"><span class=\"field-key\" title=\".fields['processing']['behavior'].fields['data_interfaces']['BehavioralTimeSeries'].fields['time_series']['face_motion_energy'].fields['starting_time_unit']\">starting_time_unit:</span> <span class=\"field-value\">seconds</span></div></details></details></details><details><summary style=\"display: list-item; margin-left: 60px;\" class=\"container-fields field-key\" title=\".fields['processing']['behavior'].fields['data_interfaces']['PupilTracking']\"><b>PupilTracking</b></summary><details><summary style=\"display: list-item; margin-left: 80px;\" class=\"container-fields field-key\" title=\".fields['processing']['behavior'].fields['data_interfaces']['PupilTracking'].fields['time_series']\"><b>time_series (2)</b></summary><details><summary style=\"display: list-item; margin-left: 100px;\" class=\"container-fields field-key\" title=\".fields['processing']['behavior'].fields['data_interfaces']['PupilTracking'].fields['time_series']['eye_area']\"><b>eye_area</b></summary><div style=\"margin-left: 120px;\" class=\"container-fields\"><span class=\"field-key\" title=\".fields['processing']['behavior'].fields['data_interfaces']['PupilTracking'].fields['time_series']['eye_area'].fields['resolution']\">resolution:</span> <span class=\"field-value\">-1.0</span></div><div style=\"margin-left: 120px;\" class=\"container-fields\"><span class=\"field-key\" title=\".fields['processing']['behavior'].fields['data_interfaces']['PupilTracking'].fields['time_series']['eye_area'].fields['comments']\">comments:</span> <span class=\"field-value\">The area of the pupil extracted with DeepLabCut. Note that it is relatively very small during the discrimination task and during the passive replay because the three screens are medium-grey at this time and black elsewhere - so the much brighter overall luminance levels lead to relatively constricted pupils.</span></div><div style=\"margin-left: 120px;\" class=\"container-fields\"><span class=\"field-key\" title=\".fields['processing']['behavior'].fields['data_interfaces']['PupilTracking'].fields['time_series']['eye_area'].fields['description']\">description:</span> <span class=\"field-value\">Features extracted from the video of the right eye.</span></div><div style=\"margin-left: 120px;\" class=\"container-fields\"><span class=\"field-key\" title=\".fields['processing']['behavior'].fields['data_interfaces']['PupilTracking'].fields['time_series']['eye_area'].fields['conversion']\">conversion:</span> <span class=\"field-value\">1.0</span></div><div style=\"margin-left: 120px;\" class=\"container-fields\"><span class=\"field-key\" title=\".fields['processing']['behavior'].fields['data_interfaces']['PupilTracking'].fields['time_series']['eye_area'].fields['offset']\">offset:</span> <span class=\"field-value\">0.0</span></div><div style=\"margin-left: 120px;\" class=\"container-fields\"><span class=\"field-key\" title=\".fields['processing']['behavior'].fields['data_interfaces']['PupilTracking'].fields['time_series']['eye_area'].fields['unit']\">unit:</span> <span class=\"field-value\">arb. unit</span></div><details><summary style=\"display: list-item; margin-left: 120px;\" class=\"container-fields field-key\" title=\".fields['processing']['behavior'].fields['data_interfaces']['PupilTracking'].fields['time_series']['eye_area'].fields['data']\"><b>data</b></summary></details><details><summary style=\"display: list-item; margin-left: 120px;\" class=\"container-fields field-key\" title=\".fields['processing']['behavior'].fields['data_interfaces']['PupilTracking'].fields['time_series']['eye_area'].fields['timestamps']\"><b>timestamps</b></summary></details><div style=\"margin-left: 120px;\" class=\"container-fields\"><span class=\"field-key\" title=\".fields['processing']['behavior'].fields['data_interfaces']['PupilTracking'].fields['time_series']['eye_area'].fields['timestamps_unit']\">timestamps_unit:</span> <span class=\"field-value\">seconds</span></div><div style=\"margin-left: 120px;\" class=\"container-fields\"><span class=\"field-key\" title=\".fields['processing']['behavior'].fields['data_interfaces']['PupilTracking'].fields['time_series']['eye_area'].fields['interval']\">interval:</span> <span class=\"field-value\">1</span></div></details><details><summary style=\"display: list-item; margin-left: 100px;\" class=\"container-fields field-key\" title=\".fields['processing']['behavior'].fields['data_interfaces']['PupilTracking'].fields['time_series']['eye_xy_positions']\"><b>eye_xy_positions</b></summary><div style=\"margin-left: 120px;\" class=\"container-fields\"><span class=\"field-key\" title=\".fields['processing']['behavior'].fields['data_interfaces']['PupilTracking'].fields['time_series']['eye_xy_positions'].fields['resolution']\">resolution:</span> <span class=\"field-value\">-1.0</span></div><div style=\"margin-left: 120px;\" class=\"container-fields\"><span class=\"field-key\" title=\".fields['processing']['behavior'].fields['data_interfaces']['PupilTracking'].fields['time_series']['eye_xy_positions'].fields['comments']\">comments:</span> <span class=\"field-value\">The 2D position of the center of the pupil in the video frame. This is not registered to degrees visual angle, but could be used to detect saccades or other changes in eye position.</span></div><div style=\"margin-left: 120px;\" class=\"container-fields\"><span class=\"field-key\" title=\".fields['processing']['behavior'].fields['data_interfaces']['PupilTracking'].fields['time_series']['eye_xy_positions'].fields['description']\">description:</span> <span class=\"field-value\">Features extracted from the video of the right eye.</span></div><div style=\"margin-left: 120px;\" class=\"container-fields\"><span class=\"field-key\" title=\".fields['processing']['behavior'].fields['data_interfaces']['PupilTracking'].fields['time_series']['eye_xy_positions'].fields['conversion']\">conversion:</span> <span class=\"field-value\">1.0</span></div><div style=\"margin-left: 120px;\" class=\"container-fields\"><span class=\"field-key\" title=\".fields['processing']['behavior'].fields['data_interfaces']['PupilTracking'].fields['time_series']['eye_xy_positions'].fields['offset']\">offset:</span> <span class=\"field-value\">0.0</span></div><div style=\"margin-left: 120px;\" class=\"container-fields\"><span class=\"field-key\" title=\".fields['processing']['behavior'].fields['data_interfaces']['PupilTracking'].fields['time_series']['eye_xy_positions'].fields['unit']\">unit:</span> <span class=\"field-value\">arb. unit</span></div><details><summary style=\"display: list-item; margin-left: 120px;\" class=\"container-fields field-key\" title=\".fields['processing']['behavior'].fields['data_interfaces']['PupilTracking'].fields['time_series']['eye_xy_positions'].fields['data']\"><b>data</b></summary></details><details><summary style=\"display: list-item; margin-left: 120px;\" class=\"container-fields field-key\" title=\".fields['processing']['behavior'].fields['data_interfaces']['PupilTracking'].fields['time_series']['eye_xy_positions'].fields['timestamps']\"><b>timestamps</b></summary></details><div style=\"margin-left: 120px;\" class=\"container-fields\"><span class=\"field-key\" title=\".fields['processing']['behavior'].fields['data_interfaces']['PupilTracking'].fields['time_series']['eye_xy_positions'].fields['timestamps_unit']\">timestamps_unit:</span> <span class=\"field-value\">seconds</span></div><div style=\"margin-left: 120px;\" class=\"container-fields\"><span class=\"field-key\" title=\".fields['processing']['behavior'].fields['data_interfaces']['PupilTracking'].fields['time_series']['eye_xy_positions'].fields['interval']\">interval:</span> <span class=\"field-value\">1</span></div></details></details></details></details></details></details><div style=\"margin-left: 0px;\" class=\"container-fields\"><span class=\"field-key\" title=\".fields['epoch_tags']\">epoch_tags:</span> <span class=\"field-value\">set()</span></div><details><summary style=\"display: list-item; margin-left: 0px;\" class=\"container-fields field-key\" title=\".fields['electrodes']\"><b>electrodes</b></summary><div style=\"margin-left: 20px;\" class=\"container-fields\"><span class=\"field-key\" title=\".fields['electrodes'].fields['description']\">description:</span> <span class=\"field-value\">metadata about extracellular electrodes</span></div><details><summary style=\"display: list-item; margin-left: 20px;\" class=\"container-fields field-key\" title=\".fields['electrodes'].fields['id']\"><b>id</b></summary></details><div style=\"margin-left: 20px;\" class=\"container-fields\"><span class=\"field-key\" title=\".fields['electrodes'].fields['colnames']\">colnames:</span> <span class=\"field-value\">('x', 'y', 'z', 'imp', 'location', 'filtering', 'group', 'group_name', 'site_id', 'site_position', 'ccf_ap', 'ccf_dv', 'ccf_lr', 'entry_point_rl', 'entry_point_ap', 'vertical_angle', 'horizontal_angle', 'axial_angle', 'distance_advanced')</span></div><div style=\"margin-left: 20px;\" class=\"container-fields\"><span class=\"field-key\" title=\".fields['electrodes'].fields['columns']\">columns:</span> <span class=\"field-value\">(<hdmf.common.table.VectorData object at 0x7f8bff2be390>, <hdmf.common.table.VectorData object at 0x7f8bff2be510>, <hdmf.common.table.VectorData object at 0x7f8bff2be690>, <hdmf.common.table.VectorData object at 0x7f8bff2bdc10>, <hdmf.common.table.VectorData object at 0x7f8bff2bdd90>, <hdmf.common.table.VectorData object at 0x7f8bff2bd510>, <hdmf.common.table.VectorData object at 0x7f8bff2bcbd0>, <hdmf.common.table.VectorData object at 0x7f8bff2bc890>, <hdmf.common.table.VectorData object at 0x7f8bff2bdf10>, <hdmf.common.table.VectorData object at 0x7f8bff2be090>, <hdmf.common.table.VectorData object at 0x7f8bff2bc510>, <hdmf.common.table.VectorData object at 0x7f8bff2bcd50>, <hdmf.common.table.VectorData object at 0x7f8bff2bced0>, <hdmf.common.table.VectorData object at 0x7f8bff2bd390>, <hdmf.common.table.VectorData object at 0x7f8bff2bc5d0>, <hdmf.common.table.VectorData object at 0x7f8bff2be210>, <hdmf.common.table.VectorData object at 0x7f8bff2bda90>, <hdmf.common.table.VectorData object at 0x7f8bff2bca10>, <hdmf.common.table.VectorData object at 0x7f8bff2bd050>)</span></div></details><details><summary style=\"display: list-item; margin-left: 0px;\" class=\"container-fields field-key\" title=\".fields['electrode_groups']\"><b>electrode_groups (2)</b></summary><details><summary style=\"display: list-item; margin-left: 20px;\" class=\"container-fields field-key\" title=\".fields['electrode_groups']['Probe1']\"><b>Probe1</b></summary><div style=\"margin-left: 40px;\" class=\"container-fields\"><span class=\"field-key\" title=\".fields['electrode_groups']['Probe1'].fields['description']\">description:</span> <span class=\"field-value\">Neuropixels Phase3A opt3</span></div><div style=\"margin-left: 40px;\" class=\"container-fields\"><span class=\"field-key\" title=\".fields['electrode_groups']['Probe1'].fields['location']\">location:</span> <span class=\"field-value\"></span></div><details><summary style=\"display: list-item; margin-left: 40px;\" class=\"container-fields field-key\" title=\".fields['electrode_groups']['Probe1'].fields['device']\"><b>device</b></summary></details></details><details><summary style=\"display: list-item; margin-left: 20px;\" class=\"container-fields field-key\" title=\".fields['electrode_groups']['Probe2']\"><b>Probe2</b></summary><div style=\"margin-left: 40px;\" class=\"container-fields\"><span class=\"field-key\" title=\".fields['electrode_groups']['Probe2'].fields['description']\">description:</span> <span class=\"field-value\">Neuropixels Phase3A opt3</span></div><div style=\"margin-left: 40px;\" class=\"container-fields\"><span class=\"field-key\" title=\".fields['electrode_groups']['Probe2'].fields['location']\">location:</span> <span class=\"field-value\"></span></div><details><summary style=\"display: list-item; margin-left: 40px;\" class=\"container-fields field-key\" title=\".fields['electrode_groups']['Probe2'].fields['device']\"><b>device</b></summary></details></details></details><details><summary style=\"display: list-item; margin-left: 0px;\" class=\"container-fields field-key\" title=\".fields['devices']\"><b>devices (2)</b></summary><details><summary style=\"display: list-item; margin-left: 20px;\" class=\"container-fields field-key\" title=\".fields['devices']['0']\"><b>0</b></summary></details><details><summary style=\"display: list-item; margin-left: 20px;\" class=\"container-fields field-key\" title=\".fields['devices']['1']\"><b>1</b></summary></details></details><details><summary style=\"display: list-item; margin-left: 0px;\" class=\"container-fields field-key\" title=\".fields['intervals']\"><b>intervals (2)</b></summary><details><summary style=\"display: list-item; margin-left: 20px;\" class=\"container-fields field-key\" title=\".fields['intervals']['spontaneous']\"><b>spontaneous</b></summary><div style=\"margin-left: 40px;\" class=\"container-fields\"><span class=\"field-key\" title=\".fields['intervals']['spontaneous'].fields['description']\">description:</span> <span class=\"field-value\">Intervals of sufficient duration when nothing else is going on (no task or stimulus presentation</span></div><details><summary style=\"display: list-item; margin-left: 40px;\" class=\"container-fields field-key\" title=\".fields['intervals']['spontaneous'].fields['id']\"><b>id</b></summary></details><div style=\"margin-left: 40px;\" class=\"container-fields\"><span class=\"field-key\" title=\".fields['intervals']['spontaneous'].fields['colnames']\">colnames:</span> <span class=\"field-value\">('start_time', 'stop_time')</span></div><div style=\"margin-left: 40px;\" class=\"container-fields\"><span class=\"field-key\" title=\".fields['intervals']['spontaneous'].fields['columns']\">columns:</span> <span class=\"field-value\">(<hdmf.common.table.VectorData object at 0x7f8bff2be7d0>, <hdmf.common.table.VectorData object at 0x7f8bff2bdcd0>)</span></div></details><details><summary style=\"display: list-item; margin-left: 20px;\" class=\"container-fields field-key\" title=\".fields['intervals']['trials']\"><b>trials</b></summary><div style=\"margin-left: 40px;\" class=\"container-fields\"><span class=\"field-key\" title=\".fields['intervals']['trials'].fields['description']\">description:</span> <span class=\"field-value\">experimental trials</span></div><details><summary style=\"display: list-item; margin-left: 40px;\" class=\"container-fields field-key\" title=\".fields['intervals']['trials'].fields['id']\"><b>id</b></summary></details><div style=\"margin-left: 40px;\" class=\"container-fields\"><span class=\"field-key\" title=\".fields['intervals']['trials'].fields['colnames']\">colnames:</span> <span class=\"field-value\">('start_time', 'stop_time', 'included', 'go_cue', 'visual_stimulus_time', 'visual_stimulus_left_contrast', 'visual_stimulus_right_contrast', 'response_time', 'response_choice', 'feedback_time', 'feedback_type', 'rep_num')</span></div><div style=\"margin-left: 40px;\" class=\"container-fields\"><span class=\"field-key\" title=\".fields['intervals']['trials'].fields['columns']\">columns:</span> <span class=\"field-value\">(<hdmf.common.table.VectorData object at 0x7f8bff2a6990>, <hdmf.common.table.VectorData object at 0x7f8bff2a6110>, <hdmf.common.table.VectorData object at 0x7f8bff2bd450>, <hdmf.common.table.VectorData object at 0x7f8bff2bded0>, <hdmf.common.table.VectorData object at 0x7f8bff2bfb90>, <hdmf.common.table.VectorData object at 0x7f8bff2bf910>, <hdmf.common.table.VectorData object at 0x7f8bff2bfa10>, <hdmf.common.table.VectorData object at 0x7f8bff2bf810>, <hdmf.common.table.VectorData object at 0x7f8bff2be9d0>, <hdmf.common.table.VectorData object at 0x7f8bff2a5550>, <hdmf.common.table.VectorData object at 0x7f8bff2be850>, <hdmf.common.table.VectorData object at 0x7f8bff2bd550>)</span></div></details></details><details><summary style=\"display: list-item; margin-left: 0px;\" class=\"container-fields field-key\" title=\".fields['subject']\"><b>subject</b></summary><div style=\"margin-left: 20px;\" class=\"container-fields\"><span class=\"field-key\" title=\".fields['subject'].fields['age']\">age:</span> <span class=\"field-value\">77 days</span></div><div style=\"margin-left: 20px;\" class=\"container-fields\"><span class=\"field-key\" title=\".fields['subject'].fields['description']\">description:</span> <span class=\"field-value\">strain: C57Bl6/J</span></div><div style=\"margin-left: 20px;\" class=\"container-fields\"><span class=\"field-key\" title=\".fields['subject'].fields['genotype']\">genotype:</span> <span class=\"field-value\">tetO-G6s x CaMK-tTA</span></div><div style=\"margin-left: 20px;\" class=\"container-fields\"><span class=\"field-key\" title=\".fields['subject'].fields['sex']\">sex:</span> <span class=\"field-value\">F</span></div><div style=\"margin-left: 20px;\" class=\"container-fields\"><span class=\"field-key\" title=\".fields['subject'].fields['species']\">species:</span> <span class=\"field-value\">Mus musculus</span></div><div style=\"margin-left: 20px;\" class=\"container-fields\"><span class=\"field-key\" title=\".fields['subject'].fields['subject_id']\">subject_id:</span> <span class=\"field-value\">Cori</span></div></details><details><summary style=\"display: list-item; margin-left: 0px;\" class=\"container-fields field-key\" title=\".fields['trials']\"><b>trials</b></summary><div style=\"margin-left: 20px;\" class=\"container-fields\"><span class=\"field-key\" title=\".fields['trials'].fields['description']\">description:</span> <span class=\"field-value\">experimental trials</span></div><details><summary style=\"display: list-item; margin-left: 20px;\" class=\"container-fields field-key\" title=\".fields['trials'].fields['id']\"><b>id</b></summary></details><div style=\"margin-left: 20px;\" class=\"container-fields\"><span class=\"field-key\" title=\".fields['trials'].fields['colnames']\">colnames:</span> <span class=\"field-value\">('start_time', 'stop_time', 'included', 'go_cue', 'visual_stimulus_time', 'visual_stimulus_left_contrast', 'visual_stimulus_right_contrast', 'response_time', 'response_choice', 'feedback_time', 'feedback_type', 'rep_num')</span></div><div style=\"margin-left: 20px;\" class=\"container-fields\"><span class=\"field-key\" title=\".fields['trials'].fields['columns']\">columns:</span> <span class=\"field-value\">(<hdmf.common.table.VectorData object at 0x7f8bff2a6990>, <hdmf.common.table.VectorData object at 0x7f8bff2a6110>, <hdmf.common.table.VectorData object at 0x7f8bff2bd450>, <hdmf.common.table.VectorData object at 0x7f8bff2bded0>, <hdmf.common.table.VectorData object at 0x7f8bff2bfb90>, <hdmf.common.table.VectorData object at 0x7f8bff2bf910>, <hdmf.common.table.VectorData object at 0x7f8bff2bfa10>, <hdmf.common.table.VectorData object at 0x7f8bff2bf810>, <hdmf.common.table.VectorData object at 0x7f8bff2be9d0>, <hdmf.common.table.VectorData object at 0x7f8bff2a5550>, <hdmf.common.table.VectorData object at 0x7f8bff2be850>, <hdmf.common.table.VectorData object at 0x7f8bff2bd550>)</span></div></details><details><summary style=\"display: list-item; margin-left: 0px;\" class=\"container-fields field-key\" title=\".fields['units']\"><b>units</b></summary><div style=\"margin-left: 20px;\" class=\"container-fields\"><span class=\"field-key\" title=\".fields['units'].fields['description']\">description:</span> <span class=\"field-value\">Autogenerated by NWBFile</span></div><details><summary style=\"display: list-item; margin-left: 20px;\" class=\"container-fields field-key\" title=\".fields['units'].fields['id']\"><b>id</b></summary></details><div style=\"margin-left: 20px;\" class=\"container-fields\"><span class=\"field-key\" title=\".fields['units'].fields['colnames']\">colnames:</span> <span class=\"field-value\">('peak_channel', 'waveform_duration', 'phy_annotations', 'cluster_depths', 'sampling_rate', 'spike_times', 'electrodes', 'electrode_group', 'waveform_mean', 'spike_amps', 'spike_depths')</span></div><div style=\"margin-left: 20px;\" class=\"container-fields\"><span class=\"field-key\" title=\".fields['units'].fields['columns']\">columns:</span> <span class=\"field-value\">(<hdmf.common.table.VectorData object at 0x7f8bff2d5350>, <hdmf.common.table.VectorData object at 0x7f8bff2d5d90>, <hdmf.common.table.VectorData object at 0x7f8bff2d5290>, <hdmf.common.table.VectorData object at 0x7f8bff2d4ed0>, <hdmf.common.table.VectorData object at 0x7f8bff2d5690>, <hdmf.common.table.VectorIndex object at 0x7f8bff2a4bd0>, <hdmf.common.table.VectorData object at 0x7f8bff2d4ad0>, <hdmf.common.table.VectorIndex object at 0x7f8bff2bffd0>, electrodes hdmf.common.table.DynamicTableRegion at 0x140239258340304\n",
       "    Target table: electrodes hdmf.common.table.DynamicTable at 0x140239258149264\n",
       ", <hdmf.common.table.VectorData object at 0x7f8bff2d4d10>, <hdmf.common.table.VectorData object at 0x7f8bff2d4310>, <hdmf.common.table.VectorIndex object at 0x7f8bff2d50d0>, <hdmf.common.table.VectorData object at 0x7f8bff2d5810>, <hdmf.common.table.VectorIndex object at 0x7f8bff2d5990>, <hdmf.common.table.VectorData object at 0x7f8bff2d5a90>)</span></div><div style=\"margin-left: 20px;\" class=\"container-fields\"><span class=\"field-key\" title=\".fields['units'].fields['waveform_unit']\">waveform_unit:</span> <span class=\"field-value\">volts</span></div></details><div style=\"margin-left: 0px;\" class=\"container-fields\"><span class=\"field-key\" title=\".fields['experiment_description']\">experiment_description:</span> <span class=\"field-value\">Large-scale Neuropixels recordings across brain regions of mice during a head-fixed visual discrimination task. </span></div><div style=\"margin-left: 0px;\" class=\"container-fields\"><span class=\"field-key\" title=\".fields['lab']\">lab:</span> <span class=\"field-value\">The Carandini and Harris Lab</span></div><div style=\"margin-left: 0px;\" class=\"container-fields\"><span class=\"field-key\" title=\".fields['institution']\">institution:</span> <span class=\"field-value\">University College London</span></div></div>"
      ],
      "text/plain": [
       "root pynwb.file.NWBFile at 0x140239258008656\n",
       "Fields:\n",
       "  acquisition: {\n",
       "    lickPiezo <class 'pynwb.base.TimeSeries'>,\n",
       "    wheel_position <class 'pynwb.base.TimeSeries'>\n",
       "  }\n",
       "  devices: {\n",
       "    0 <class 'pynwb.device.Device'>,\n",
       "    1 <class 'pynwb.device.Device'>\n",
       "  }\n",
       "  electrode_groups: {\n",
       "    Probe1 <class 'pynwb.ecephys.ElectrodeGroup'>,\n",
       "    Probe2 <class 'pynwb.ecephys.ElectrodeGroup'>\n",
       "  }\n",
       "  electrodes: electrodes <class 'hdmf.common.table.DynamicTable'>\n",
       "  experiment_description: Large-scale Neuropixels recordings across brain regions of mice during a head-fixed visual discrimination task. \n",
       "  experimenter: ['Nick Steinmetz']\n",
       "  file_create_date: [datetime.datetime(2019, 11, 26, 13, 54, 42, 972670, tzinfo=tzoffset(None, -28800))]\n",
       "  identifier: Cori_2016-12-14\n",
       "  institution: University College London\n",
       "  intervals: {\n",
       "    spontaneous <class 'pynwb.epoch.TimeIntervals'>,\n",
       "    trials <class 'pynwb.epoch.TimeIntervals'>\n",
       "  }\n",
       "  lab: The Carandini and Harris Lab\n",
       "  processing: {\n",
       "    behavior <class 'pynwb.base.ProcessingModule'>\n",
       "  }\n",
       "  related_publications: ['DOI 10.1038/s41586-019-1787-x']\n",
       "  session_description: Neuropixels recording during visual discrimination in awake mice.\n",
       "  session_start_time: 2016-12-14 12:00:00+00:00\n",
       "  stimulus: {\n",
       "    passive_beeps <class 'pynwb.base.TimeSeries'>,\n",
       "    passive_click_times <class 'pynwb.base.TimeSeries'>,\n",
       "    passive_left_contrast <class 'pynwb.base.TimeSeries'>,\n",
       "    passive_right_contrast <class 'pynwb.base.TimeSeries'>,\n",
       "    passive_white_noise <class 'pynwb.base.TimeSeries'>,\n",
       "    receptive_field_mapping_sparse_noise <class 'pynwb.base.TimeSeries'>\n",
       "  }\n",
       "  subject: subject pynwb.file.Subject at 0x140239257510032\n",
       "Fields:\n",
       "  age: 77 days\n",
       "  description: strain: C57Bl6/J\n",
       "  genotype: tetO-G6s x CaMK-tTA\n",
       "  sex: F\n",
       "  species: Mus musculus\n",
       "  subject_id: Cori\n",
       "\n",
       "  timestamps_reference_time: 2016-12-14 12:00:00+00:00\n",
       "  trials: trials <class 'pynwb.epoch.TimeIntervals'>\n",
       "  units: units <class 'pynwb.misc.Units'>"
      ]
     },
     "execution_count": 3,
     "metadata": {},
     "output_type": "execute_result"
    }
   ],
   "source": [
    "nwb_file_path = f'{folder_path}/{contents[0]}'  # Replace with your NWB file path\n",
    "nwb_data = open_nwb_data(nwb_file_path)\n",
    "nwb_data"
   ]
  },
  {
   "cell_type": "code",
   "execution_count": 67,
   "id": "533c2187-d5c0-425b-b9cf-dfb516f3f1c1",
   "metadata": {},
   "outputs": [],
   "source": [
    "def get_spiking_data(nwb_data, start_time, end_time):\n",
    "    \"\"\"\n",
    "    Retrieves spike times for all neurons during a specific time interval.\n",
    "\n",
    "    Parameters:\n",
    "    nwb_data (NWBData): The NWB data object.\n",
    "    start_time (int): Start time.\n",
    "    end_time (int): End time.\n",
    "\n",
    "    Returns:\n",
    "    numpy.ndarray: A NumPy array containing all spike times for all neurons.\n",
    "    \"\"\"\n",
    "    spike_data = []\n",
    "\n",
    "    if nwb_data.units:\n",
    "        # Iterate through all units\n",
    "        for i in range(len(nwb_data.units)):\n",
    "            unit = nwb_data.units[i]\n",
    "            spike_times = unit['spike_times'][:]\n",
    "            # Filter spike times within the given interval\n",
    "            trial_spike_times = spike_times[(spike_times >= start_time) & (spike_times <= end_time)]\n",
    "            spike_data.extend(trial_spike_times)\n",
    "\n",
    "    print(spike_data)\n",
    "\n",
    "    return np.array(spike_data)"
   ]
  },
  {
   "cell_type": "code",
   "execution_count": 5,
   "id": "717f8cdb-e65c-40b8-b2f5-a56f7a5c10bc",
   "metadata": {},
   "outputs": [],
   "source": [
    "def get_interval_times(nwb_sub_data, interval_type):\n",
    "    \"\"\"\n",
    "    Opens an NWB file and retrieves start and stop times for specified intervals.\n",
    "\n",
    "    Parameters:\n",
    "    nwb_file_path (str): The file path of the NWB file.\n",
    "    interval_type (str): Type of interval ('spontaneous' or 'trials').\n",
    "\n",
    "    Returns:\n",
    "    tuple of lists: Two lists, one containing the start times and another containing the stop times for each interval.\n",
    "    \"\"\"\n",
    "    if nwb_sub_data is None or len(nwb_sub_data) == 0:\n",
    "        raise ValueError(f\"No data found for interval type '{interval_type}'\")\n",
    "\n",
    "    try:\n",
    "        start_times = nwb_sub_data['start_time'].data[:]\n",
    "        stop_times = nwb_sub_data['stop_time'].data[:]\n",
    "    except Exception as e:\n",
    "        raise RuntimeError(f\"Error extracting data: {e}\")\n",
    "\n",
    "    return start_times, stop_times\n"
   ]
  },
  {
   "cell_type": "code",
   "execution_count": null,
   "id": "3902ffa6-1fac-436a-b53b-ac5d0f562b1e",
   "metadata": {},
   "outputs": [],
   "source": [
    "get data\n",
    "get all missed data\n",
    "get the start and stop times for missed data\n",
    "get spike data\n",
    "save in data > missed"
   ]
  },
  {
   "cell_type": "code",
   "execution_count": 29,
   "id": "3df81d2f-d79e-4093-8661-c587a1610571",
   "metadata": {},
   "outputs": [],
   "source": [
    "def get_missed_time_data(nwb_file_path):\n",
    "    with pynwb.NWBHDF5IO(nwb_file_path, 'r') as io:\n",
    "        nwb_data = io.read()\n",
    "        \n",
    "        # Extracting data\n",
    "        response_choice = nwb_data.intervals['trials']['response_choice'].data[:]\n",
    "        start_time = nwb_data.intervals['trials']['start_time'].data[:]\n",
    "        stop_time = nwb_data.intervals['trials']['stop_time'].data[:]\n",
    "\n",
    "        # Filtering data where response_choice is not -1\n",
    "        valid_indices = response_choice == 0\n",
    "        filtered_data = np.array([\n",
    "            start_time[valid_indices],\n",
    "            stop_time[valid_indices]\n",
    "        ])\n",
    "        \n",
    "    return filtered_data\n",
    "\n",
    "missed_times = get_missed_time_data(nwb_file_path)\n"
   ]
  },
  {
   "cell_type": "code",
   "execution_count": null,
   "id": "c56b5085-060a-4777-bf20-d55120a80c2f",
   "metadata": {},
   "outputs": [],
   "source": [
    "def get_missed_time_data(nwb_file_path):\n",
    "    with pynwb.NWBHDF5IO(nwb_file_path, 'r') as io:\n",
    "        nwb_data = io.read()\n",
    "        \n",
    "        # Extracting data\n",
    "        response_choice = nwb_data.intervals['trials']['response_choice'].data[:]\n",
    "        start_time = nwb_data.intervals['trials']['start_time'].data[:]\n",
    "        stop_time = nwb_data.intervals['trials']['stop_time'].data[:]\n",
    "\n",
    "        # Filtering data where response_choice is not -1\n",
    "        valid_indices = response_choice == 0\n",
    "        filtered_data = np.array([\n",
    "            start_time[valid_indices],\n",
    "            stop_time[valid_indices]\n",
    "        ])\n",
    "        \n",
    "    return filtered_data\n",
    "\n",
    "missed_times = get_missed_time_data(nwb_file_path)\n"
   ]
  },
  {
   "cell_type": "code",
   "execution_count": 45,
   "id": "e8e433cc-4437-418b-a986-404a111c2a55",
   "metadata": {},
   "outputs": [],
   "source": [
    "import pynwb\n",
    "import numpy as np\n",
    "\n",
    "def get_passive_time_data(nwb_file_path):\n",
    "    with pynwb.NWBHDF5IO(nwb_file_path, 'r') as io:\n",
    "        nwb_data = io.read()\n",
    "        data = np.array([\n",
    "            nwb_data.intervals['spontaneous']['start_time'].data[:],\n",
    "            nwb_data.intervals['spontaneous']['stop_time'].data[:],\n",
    "        ])\n",
    "    return data\n",
    "\n",
    "passive_times = get_passive_time_data(nwb_file_path)\n"
   ]
  },
  {
   "cell_type": "code",
   "execution_count": 51,
   "id": "3e32d9a0-9a1d-47cb-98b5-f90fd29fe4c4",
   "metadata": {},
   "outputs": [
    {
     "name": "stdout",
     "output_type": "stream",
     "text": [
      "(2, 74)\n",
      "(2, 4)\n"
     ]
    }
   ],
   "source": [
    "print(missed_times.shape)\n",
    "print(passive_times.shape)"
   ]
  },
  {
   "cell_type": "code",
   "execution_count": 55,
   "id": "adaf0f2e-7844-4cbb-98bc-60e8b560fc89",
   "metadata": {},
   "outputs": [
    {
     "name": "stdout",
     "output_type": "stream",
     "text": [
      "4.65988056195935\n",
      "3.396688497112109\n",
      "11.212790198471794\n"
     ]
    }
   ],
   "source": [
    "print(np.mean(missed_times[1]  - missed_times[0]))\n",
    "print(np.min(missed_times[1]  - missed_times[0]))\n",
    "print(np.max(missed_times[1]  - missed_times[0]))"
   ]
  },
  {
   "cell_type": "code",
   "execution_count": 48,
   "id": "535210e5-4aef-49a2-bde8-ccc12197fabb",
   "metadata": {},
   "outputs": [
    {
     "data": {
      "text/plain": [
       "58.422704880107936"
      ]
     },
     "execution_count": 48,
     "metadata": {},
     "output_type": "execute_result"
    }
   ],
   "source": [
    "np.mean(passive_times[1]  - passive_times[0])"
   ]
  },
  {
   "cell_type": "markdown",
   "id": "81cea757-fbdd-4d40-99e5-c3b9b9003617",
   "metadata": {},
   "source": [
    "Given the lack of passive data, we will take 5 seconds of missed trial data and segment passive data to 5s intervals. This will give 48 data points. The trial data also massively varies. I will take 5 second intervals and pad the end with zeros for all data to make sure we have max amount of data although may cause model to bias due to it being more frequent in the missed data"
   ]
  },
  {
   "cell_type": "code",
   "execution_count": 58,
   "id": "0c59d24a-0efa-4eb1-84a1-5c7b6fa9a8fa",
   "metadata": {},
   "outputs": [
    {
     "ename": "SyntaxError",
     "evalue": "invalid decimal literal (367469315.py, line 3)",
     "output_type": "error",
     "traceback": [
      "\u001b[0;36m  Cell \u001b[0;32mIn[58], line 3\u001b[0;36m\u001b[0m\n\u001b[0;31m    ensure 5s of data with padding\u001b[0m\n\u001b[0m           ^\u001b[0m\n\u001b[0;31mSyntaxError\u001b[0m\u001b[0;31m:\u001b[0m invalid decimal literal\n"
     ]
    }
   ],
   "source": [
    "loop through array\n",
    "get 5 s of data\n",
    "ensure 5s of data with padding\n",
    "move through (either next for missed or next 5s for passive until end)"
   ]
  },
  {
   "cell_type": "code",
   "execution_count": 126,
   "id": "11b7dd93-e786-4705-8b85-42c138e2bcb8",
   "metadata": {},
   "outputs": [
    {
     "name": "stderr",
     "output_type": "stream",
     "text": [
      "/opt/conda/lib/python3.11/site-packages/pynwb/base.py:193: UserWarning: IntervalSeries 'wheel_moves': Length of data does not match length of timestamps. Your data may be transposed. Time should be on the 0th dimension\n",
      "  warn(\"%s '%s': Length of data does not match length of timestamps. Your data may be transposed. \"\n"
     ]
    }
   ],
   "source": [
    "import numpy as np\n",
    "\n",
    "def bin_spikes(spike_times, bin_size=0.1):\n",
    "    \"\"\"\n",
    "    Bins the spike times into fixed intervals.\n",
    "\n",
    "    Parameters:\n",
    "    spike_times (np.array): Array of spike times for a neuron.\n",
    "    bin_size (float): The size of each time bin in seconds.\n",
    "\n",
    "    Returns:\n",
    "    np.array: An array representing the number of spikes in each time bin.\n",
    "    \"\"\"\n",
    "    if spike_times.size == 0:\n",
    "        return np.array([])\n",
    "\n",
    "    # Calculate the number of bins needed\n",
    "    max_time = np.max(spike_times)\n",
    "    num_bins = int(np.ceil(max_time / bin_size))\n",
    "\n",
    "    # Use numpy histogram to bin the spikes\n",
    "    binned_spikes, _ = np.histogram(spike_times, bins=num_bins, range=(0, max_time))\n",
    "\n",
    "    return binned_spikes\n",
    "\n",
    "def get_spiking_data(nwb_data, trial_start_time, trial_end_time):\n",
    "    \"\"\"\n",
    "    Retrieves and bins spike times for specified neurons during a specific trial.\n",
    "\n",
    "    Parameters:\n",
    "    nwb_data (NWBData): The NWB data object.\n",
    "    trial_start_time (float): The start time of the trial.\n",
    "    trial_end_time (float): The end time of the trial.\n",
    "\n",
    "    Returns:\n",
    "    np.array: A 2D array with binned spike counts for each neuron across the trial duration.\n",
    "    \"\"\"\n",
    "    bin_size = 0.1\n",
    "    no_neurons = len(nwb_data.units)\n",
    "    \n",
    "    # Calculate the number of bins for the given trial duration\n",
    "    trial_duration = trial_end_time - trial_start_time\n",
    "    bin_no = int(np.ceil(trial_duration / bin_size))\n",
    "    spike_data = np.zeros((bin_no, no_neurons))\n",
    "\n",
    "    if nwb_data.units:\n",
    "        for i in range(no_neurons):\n",
    "            unit = nwb_data.units[i]\n",
    "            spike_times = unit['spike_times'][:].values[0]\n",
    "            trial_spike_times = spike_times[(spike_times >= trial_start_time) & (spike_times <= trial_end_time)]\n",
    "            spike_times_normed = trial_spike_times - trial_start_time\n",
    "            try: \n",
    "                spike_data[:, i] = bin_spikes(spike_times_normed, bin_size)\n",
    "            except ValueError:\n",
    "                continue\n",
    "\n",
    "    return spike_data\n",
    "\n",
    "\n",
    "    \n",
    "def get_missed_data(nwb_file_path, missed_times):\n",
    "    with pynwb.NWBHDF5IO(nwb_file_path, 'r') as io:\n",
    "        nwb_data = io.read()\n",
    "        for start_time in missed_times[0]:\n",
    "            data = get_spiking_data(nwb_data, start_time, start_time+10)\n",
    "            np.save(f'data10/missed/{start_time}', data)\n",
    "    return None\n",
    "    \n",
    "get_missed_data(nwb_file_path, missed_times)"
   ]
  },
  {
   "cell_type": "code",
   "execution_count": null,
   "id": "f01a220d-1835-4e6c-86cb-dda383990678",
   "metadata": {},
   "outputs": [],
   "source": []
  },
  {
   "cell_type": "code",
   "execution_count": 127,
   "id": "59b951dd-c477-464d-8fb5-17bec7883961",
   "metadata": {},
   "outputs": [],
   "source": [
    "def create_more_passive(passive_times, time_bins = 10):\n",
    "    times = []\n",
    "    tdiff = passive_times[1] - passive_times[0]\n",
    "    for i in range(passive_times.shape[1]):\n",
    "        time_avail = tdiff[i]\n",
    "        j = 0 \n",
    "        while time_avail > time_bins:\n",
    "            new_t = passive_times[0][i] + (j * time_bins)\n",
    "            times.append(new_t)\n",
    "            j += 1\n",
    "            time_avail -= time_bins\n",
    "    return times\n",
    "passive_times_added = create_more_passive(passive_times)"
   ]
  },
  {
   "cell_type": "code",
   "execution_count": 128,
   "id": "9ca95b53-e3db-4d5a-99c4-3d2a64b0d986",
   "metadata": {},
   "outputs": [
    {
     "name": "stderr",
     "output_type": "stream",
     "text": [
      "/opt/conda/lib/python3.11/site-packages/pynwb/base.py:193: UserWarning: IntervalSeries 'wheel_moves': Length of data does not match length of timestamps. Your data may be transposed. Time should be on the 0th dimension\n",
      "  warn(\"%s '%s': Length of data does not match length of timestamps. Your data may be transposed. \"\n"
     ]
    }
   ],
   "source": [
    "def get_passive_data(nwb_file_path, passive_times):\n",
    "    with pynwb.NWBHDF5IO(nwb_file_path, 'r') as io:\n",
    "        nwb_data = io.read()\n",
    "        for start_time in passive_times:\n",
    "            data = get_spiking_data(nwb_data, start_time, start_time+5)\n",
    "            np.save(f'data10/passive/{start_time}', data)\n",
    "    return None\n",
    "    \n",
    "get_passive_data(nwb_file_path, passive_times_added)"
   ]
  },
  {
   "cell_type": "code",
   "execution_count": null,
   "id": "13d5858b-e295-4a75-8d63-28c80e535ae3",
   "metadata": {},
   "outputs": [],
   "source": []
  }
 ],
 "metadata": {
  "kernelspec": {
   "display_name": "Python 3 (ipykernel)",
   "language": "python",
   "name": "python3"
  },
  "language_info": {
   "codemirror_mode": {
    "name": "ipython",
    "version": 3
   },
   "file_extension": ".py",
   "mimetype": "text/x-python",
   "name": "python",
   "nbconvert_exporter": "python",
   "pygments_lexer": "ipython3",
   "version": "3.11.6"
  }
 },
 "nbformat": 4,
 "nbformat_minor": 5
}
